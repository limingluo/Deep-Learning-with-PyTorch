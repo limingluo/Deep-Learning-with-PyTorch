{
 "cells": [
  {
   "cell_type": "code",
   "execution_count": 744,
   "id": "fe6eb5bf-92a0-487d-9e54-d4e8781d94f5",
   "metadata": {},
   "outputs": [],
   "source": [
    "import torch\n",
    "from torch import nn\n",
    "from matplotlib import pyplot as plt"
   ]
  },
  {
   "cell_type": "code",
   "execution_count": 745,
   "id": "3165f6a1-b578-49ab-a6e8-a828b7dfb060",
   "metadata": {},
   "outputs": [
    {
     "data": {
      "text/plain": [
       "'1.11.0'"
      ]
     },
     "execution_count": 745,
     "metadata": {},
     "output_type": "execute_result"
    }
   ],
   "source": [
    "torch.__version__"
   ]
  },
  {
   "cell_type": "code",
   "execution_count": 746,
   "id": "c876be47-d0fb-49d7-a226-90a30dccf729",
   "metadata": {},
   "outputs": [],
   "source": [
    "device = \"cuda\" if torch.cuda.is_available() is True else \"cpu\""
   ]
  },
  {
   "cell_type": "code",
   "execution_count": 747,
   "id": "2092f7b3-97d7-414e-a574-60be35d9d8f2",
   "metadata": {},
   "outputs": [
    {
     "data": {
      "text/plain": [
       "'cuda'"
      ]
     },
     "execution_count": 747,
     "metadata": {},
     "output_type": "execute_result"
    }
   ],
   "source": [
    "device"
   ]
  },
  {
   "cell_type": "markdown",
   "id": "9bc36d9c-0753-4f65-bc17-ac48e776f34c",
   "metadata": {},
   "source": [
    "# Linear Regression as an example"
   ]
  },
  {
   "cell_type": "code",
   "execution_count": 748,
   "id": "bbd19451-d4b1-4435-b706-4eda4a5cab83",
   "metadata": {},
   "outputs": [],
   "source": [
    "# Create groundtruth parameters\n",
    "true_w = torch.tensor([[0.7]])\n",
    "true_b = torch.tensor([[0.1]])"
   ]
  },
  {
   "cell_type": "code",
   "execution_count": 749,
   "id": "0f6bda68-3bf2-4720-87e7-a9fc6dff522a",
   "metadata": {},
   "outputs": [
    {
     "name": "stdout",
     "output_type": "stream",
     "text": [
      "X:tensor([[ 0.9007],\n",
      "        [-2.1055],\n",
      "        [ 0.6784],\n",
      "        [-1.2345],\n",
      "        [-0.0431],\n",
      "        [-1.6047],\n",
      "        [ 1.7878],\n",
      "        [-0.4780],\n",
      "        [-0.3925],\n",
      "        [-1.4036]])\n",
      "Y:tensor([[ 0.6916],\n",
      "        [-1.3211],\n",
      "        [ 0.6780],\n",
      "        [-0.8347],\n",
      "        [ 0.1712],\n",
      "        [-1.0563],\n",
      "        [ 1.4032],\n",
      "        [-0.1959],\n",
      "        [-0.1027],\n",
      "        [-0.8414]])\n"
     ]
    }
   ],
   "source": [
    "# Create data\n",
    "X = torch.normal(mean=0, std=1, size=(100, 1))\n",
    "y = torch.matmul(X, true_w) + true_b\n",
    "noise = torch.normal(mean=0, std=0.1, size=y.shape)\n",
    "y = y + noise\n",
    "print(f\"X:{X[:10]}\")\n",
    "print(f\"Y:{y[:10]}\")"
   ]
  },
  {
   "cell_type": "markdown",
   "id": "b361b940-e824-4c00-b4b2-059f252e4940",
   "metadata": {},
   "source": [
    "# Data Preparing and Preprocessing"
   ]
  },
  {
   "cell_type": "markdown",
   "id": "98ed7591-1fd6-4f0e-b98e-bce7ccb02e06",
   "metadata": {},
   "source": [
    "**Data can be in almost any format:**\n",
    "\n",
    "- Excel spreadsheet\n",
    "- Images\n",
    "- Videos\n",
    "- Audios\n",
    "- Texts\n",
    "- DNA sequences"
   ]
  },
  {
   "cell_type": "code",
   "execution_count": 750,
   "id": "af020d2f-3404-4d54-a341-80197cf1583c",
   "metadata": {},
   "outputs": [
    {
     "name": "stdout",
     "output_type": "stream",
     "text": [
      "tensor([[ 0.9007],\n",
      "        [-2.1055],\n",
      "        [ 0.6784],\n",
      "        [-1.2345],\n",
      "        [-0.0431],\n",
      "        [-1.6047],\n",
      "        [ 1.7878],\n",
      "        [-0.4780],\n",
      "        [-0.3925],\n",
      "        [-1.4036]]) torch.Size([100, 1])\n"
     ]
    }
   ],
   "source": [
    "print(X[:10], X.shape)"
   ]
  },
  {
   "cell_type": "markdown",
   "id": "0e749947-ef5b-4a05-a24f-f9cc5885c4ff",
   "metadata": {},
   "source": [
    "## Data Visualisation"
   ]
  },
  {
   "cell_type": "code",
   "execution_count": 751,
   "id": "bdb0efd8-c112-48db-adb2-975e71949afd",
   "metadata": {},
   "outputs": [
    {
     "data": {
      "text/plain": [
       "<matplotlib.collections.PathCollection at 0x24b46b6d310>"
      ]
     },
     "execution_count": 751,
     "metadata": {},
     "output_type": "execute_result"
    },
    {
     "data": {
      "image/png": "[encoded data removed]",
      "text/plain": [
       "<Figure size 432x288 with 1 Axes>"
      ]
     },
     "metadata": {
      "needs_background": "light"
     },
     "output_type": "display_data"
    }
   ],
   "source": [
    "plt.scatter(X, y)"
   ]
  },
  {
   "cell_type": "markdown",
   "id": "ee391d39-c929-4a45-99e3-1a47bc8d84e2",
   "metadata": {},
   "source": [
    "## Data Splitting\n",
    "Split the whole dataset into:\n",
    "- **training set (as course materials)**\n",
    "- **validation set (as mock exams)**\n",
    "- **test set (as exams)**"
   ]
  },
  {
   "cell_type": "markdown",
   "id": "7b65095e-636c-4b70-a793-ae107d250c90",
   "metadata": {},
   "source": [
    "### Splitting data into training and test sets"
   ]
  },
  {
   "cell_type": "code",
   "execution_count": 752,
   "id": "c8d68570-8182-493b-9a9e-9abd3b25de81",
   "metadata": {},
   "outputs": [],
   "source": [
    "train_slpit = int(0.8 * len(X))\n",
    "\n",
    "X_train, y_train = X[:train_slpit], y[:train_slpit]\n",
    "X_test, y_test = X[train_slpit:], y[train_slpit:]"
   ]
  },
  {
   "cell_type": "code",
   "execution_count": 753,
   "id": "3baf922c-7e47-4b34-9439-0c8eed00ff12",
   "metadata": {},
   "outputs": [
    {
     "name": "stdout",
     "output_type": "stream",
     "text": [
      "torch.Size([80, 1])\n",
      "torch.Size([80, 1])\n",
      "torch.Size([20, 1])\n",
      "torch.Size([20, 1])\n"
     ]
    }
   ],
   "source": [
    "print(X_train.shape)\n",
    "print(y_train.shape)\n",
    "print(X_test.shape)\n",
    "print(y_test.shape)"
   ]
  },
  {
   "cell_type": "markdown",
   "id": "f20ca748-2dd0-4860-9753-0653cfa388d9",
   "metadata": {},
   "source": [
    "## Data Visualisation"
   ]
  },
  {
   "cell_type": "code",
   "execution_count": 754,
   "id": "a4b4a043-8759-49c3-9c8c-69511ce28da2",
   "metadata": {},
   "outputs": [
    {
     "data": {
      "text/plain": [
       "<matplotlib.legend.Legend at 0x24b46f7b550>"
      ]
     },
     "execution_count": 754,
     "metadata": {},
     "output_type": "execute_result"
    },
    {
     "data": {
      "image/png": "[encoded data removed]",
      "text/plain": [
       "<Figure size 864x432 with 1 Axes>"
      ]
     },
     "metadata": {
      "needs_background": "light"
     },
     "output_type": "display_data"
    }
   ],
   "source": [
    "plt.figure(figsize=(12,6))\n",
    "plt.scatter(X_train, y_train , c=\"b\", s=8, label=\"Training data\")\n",
    "plt.scatter(X_test, y_test , c=\"g\", s=8, label=\"Testing data\")\n",
    "plt.legend(prop={\"size\":14})"
   ]
  },
  {
   "cell_type": "code",
   "execution_count": 755,
   "id": "dbb3b337-2e1e-48cb-a106-3d453405070c",
   "metadata": {},
   "outputs": [],
   "source": [
    "X_train = X_train.to(device)\n",
    "y_train = y_train.to(device)\n",
    "X_test = X_test.to(device)\n",
    "y_test = y_test.to(device)"
   ]
  },
  {
   "cell_type": "markdown",
   "id": "83e7969b-293c-4276-8733-a1166c161fd2",
   "metadata": {},
   "source": [
    "# Model Building\n",
    "\n",
    "**Essentials**\n",
    "- torch.nn: all of the buildings for computational graphs\n",
    "- torch.nn.Parameter: parameters to be learned\n",
    "- torch.nn.Module: the base class for all nn modules\n",
    "- torch.optim: optimizers to deal with gradient descent\n",
    "- def foward(): apply foward computation to input data\n",
    "- torch.util.data.Dataset: a map between features and labels\n",
    "- torch.util.data.DataLoader: a Python iterable over a torch Dataset\n",
    "\n",
    "**Training**\n",
    "- Loss functions: measure how the model's predictions are to the labels\n",
    "- Optimizer: optimize the parameters to an ideal range"
   ]
  },
  {
   "cell_type": "code",
   "execution_count": 756,
   "id": "5dbeca55-06e6-4fd7-88b1-b1ecaf53ab71",
   "metadata": {},
   "outputs": [],
   "source": [
    "# # Create a linear regression model class\n",
    "# class LinearRegressionModel(nn.Module): # almost everything in PyTorch inheirtes from PyTorch nn.module\n",
    "#     def __init__(self):\n",
    "#         super().__init__()\n",
    "#         self.weights = nn.Parameter(torch.randn(1))\n",
    "#         self.bias = nn.Parameter(torch.randn(1))\n",
    "        \n",
    "#     # Forward propagation\n",
    "#     def forward(self, x):\n",
    "#         return self.weights * x + self.bias\n",
    "#         # return nn.Linear(1, 1, self.bias)\n",
    "\n",
    "class LinearRegressionModel(nn.Module):\n",
    "    def __init__(self, features_dim, labels_dim):\n",
    "        super().__init__()\n",
    "        self.linear_layer = nn.Linear(features_dim, labels_dim)\n",
    "    def forward(self, x):\n",
    "        return self.linear_layer(x)\n",
    "\n"
   ]
  },
  {
   "cell_type": "markdown",
   "id": "7c93c15c-fc57-4c35-9336-d9eea2daa052",
   "metadata": {},
   "source": [
    "## Check model contents"
   ]
  },
  {
   "cell_type": "code",
   "execution_count": 757,
   "id": "be116654-1d66-4b56-8842-957ce5f9dfa4",
   "metadata": {},
   "outputs": [
    {
     "data": {
      "text/plain": [
       "OrderedDict([('linear_layer.weight', tensor([[0.7645]], device='cuda:0')),\n",
       "             ('linear_layer.bias', tensor([0.8300], device='cuda:0'))])"
      ]
     },
     "execution_count": 757,
     "metadata": {},
     "output_type": "execute_result"
    }
   ],
   "source": [
    "# Create a random seed\n",
    "torch.manual_seed(42)\n",
    "\n",
    "# Create an instance of the model\n",
    "model = LinearRegressionModel(1, 1)\n",
    "model.to(device)\n",
    "next(model.parameters()).to(device)\n",
    "# Check out the parameters\n",
    "model.state_dict()"
   ]
  },
  {
   "cell_type": "markdown",
   "id": "5b9942d7-5cb2-45ca-a69b-0cb9e57f9713",
   "metadata": {},
   "source": [
    "## Making prediction before training"
   ]
  },
  {
   "cell_type": "code",
   "execution_count": 758,
   "id": "1489dd11-c60c-42f8-81dd-d62ed979509c",
   "metadata": {},
   "outputs": [
    {
     "data": {
      "text/plain": [
       "tensor([[-0.1952],\n",
       "        [ 0.3823],\n",
       "        [ 1.2400],\n",
       "        [ 1.2310],\n",
       "        [ 1.6462],\n",
       "        [ 0.4858],\n",
       "        [ 0.3110],\n",
       "        [ 1.2691],\n",
       "        [ 0.9736],\n",
       "        [ 0.5565],\n",
       "        [ 0.5881],\n",
       "        [ 1.2803],\n",
       "        [ 0.8290],\n",
       "        [ 0.5978],\n",
       "        [ 0.0758],\n",
       "        [ 0.9243],\n",
       "        [ 1.0975],\n",
       "        [ 1.3019],\n",
       "        [ 0.7005],\n",
       "        [ 1.0084]], device='cuda:0')"
      ]
     },
     "execution_count": 758,
     "metadata": {},
     "output_type": "execute_result"
    }
   ],
   "source": [
    "with torch.inference_mode(): # inference mode makes predicting faster\n",
    "    y_preds = model(X_test)\n",
    "y_preds\n",
    "\n",
    "# Or using with torch.no_grad(), though torch.inference_mode() is preferred\n",
    "# with torch.with_no_grad(): \n",
    "#     y_preds = model_0(X_test)\n",
    "# y_preds"
   ]
  },
  {
   "cell_type": "code",
   "execution_count": 759,
   "id": "7ae370c9-8737-46c4-a9dc-51239b39e753",
   "metadata": {},
   "outputs": [
    {
     "data": {
      "text/plain": [
       "torch.Size([20, 1])"
      ]
     },
     "execution_count": 759,
     "metadata": {},
     "output_type": "execute_result"
    }
   ],
   "source": [
    "y_preds.shape"
   ]
  },
  {
   "cell_type": "code",
   "execution_count": 760,
   "id": "0ea9bdcc-6408-41c5-8b88-0a6f12ae9257",
   "metadata": {},
   "outputs": [],
   "source": [
    "# plt.figure(figsize=(12,6))\n",
    "# # plt.scatter(X_train, y_train , c=\"b\", s=8, label=\"Training data\")\n",
    "# plt.scatter(X_test, y_test , c=\"g\", s=8, label=\"Testing data\")\n",
    "# plt.scatter(X_test, y_preds , c=\"r\", s=8, label=\"Predictions\")\n",
    "# plt.legend(prop={\"size\":14})"
   ]
  },
  {
   "cell_type": "markdown",
   "id": "740c2153-9597-4b27-8ba9-3740b1774693",
   "metadata": {},
   "source": [
    "# Training\n",
    "1. Loop through theh data\n",
    "2. Foward propagation\n",
    "3. Compute the loss\n",
    "4. Backward propagation - calculate the gradients of each of the parameters and update them"
   ]
  },
  {
   "cell_type": "markdown",
   "id": "d5c60aaf-ebd6-4555-a484-a1e2a53c604e",
   "metadata": {},
   "source": [
    "## Defining hyperparameters"
   ]
  },
  {
   "cell_type": "code",
   "execution_count": 761,
   "id": "78333f16-8965-46e3-8862-02e307f5ab98",
   "metadata": {},
   "outputs": [],
   "source": [
    "epochs = 100\n",
    "learning_rate = 0.1"
   ]
  },
  {
   "cell_type": "markdown",
   "id": "ac3c114f-bfb2-4e7c-ac4b-122e9d9782fa",
   "metadata": {},
   "source": [
    "## Defining loss function and optimizer"
   ]
  },
  {
   "cell_type": "code",
   "execution_count": 762,
   "id": "b6a5e282-c44d-4625-adfd-a1f4767c8f0f",
   "metadata": {},
   "outputs": [],
   "source": [
    "criterion = nn.MSELoss()\n",
    "# criterion = nn.L1Loss()\n",
    "optimizer = torch.optim.SGD(model.parameters(), lr=learning_rate)\n",
    "# optimizer = torch.optim.Adam([var1, var2], lr=0.0001)"
   ]
  },
  {
   "cell_type": "markdown",
   "id": "104ce557-266a-41d3-897a-ec1bf756b3e4",
   "metadata": {},
   "source": [
    "## Training process"
   ]
  },
  {
   "cell_type": "code",
   "execution_count": 763,
   "id": "94fdab5b-e405-44e1-906f-92661f8d0243",
   "metadata": {},
   "outputs": [
    {
     "name": "stdout",
     "output_type": "stream",
     "text": [
      "Epoch: 0, Loss: 0.5536317825317383, Parameters: [Parameter containing:\n",
      "tensor([[0.7524]], device='cuda:0', requires_grad=True), Parameter containing:\n",
      "tensor([0.6827], device='cuda:0', requires_grad=True)]\n",
      "Epoch: 10, Loss: 0.013421962037682533, Parameters: [Parameter containing:\n",
      "tensor([[0.7077]], device='cuda:0', requires_grad=True), Parameter containing:\n",
      "tensor([0.1565], device='cuda:0', requires_grad=True)]\n",
      "Epoch: 20, Loss: 0.007178314030170441, Parameters: [Parameter containing:\n",
      "tensor([[0.7026]], device='cuda:0', requires_grad=True), Parameter containing:\n",
      "tensor([0.1000], device='cuda:0', requires_grad=True)]\n",
      "Epoch: 30, Loss: 0.007106326520442963, Parameters: [Parameter containing:\n",
      "tensor([[0.7020]], device='cuda:0', requires_grad=True), Parameter containing:\n",
      "tensor([0.0939], device='cuda:0', requires_grad=True)]\n",
      "Epoch: 40, Loss: 0.007105558644980192, Parameters: [Parameter containing:\n",
      "tensor([[0.7019]], device='cuda:0', requires_grad=True), Parameter containing:\n",
      "tensor([0.0933], device='cuda:0', requires_grad=True)]\n",
      "Epoch: 50, Loss: 0.007105549331754446, Parameters: [Parameter containing:\n",
      "tensor([[0.7020]], device='cuda:0', requires_grad=True), Parameter containing:\n",
      "tensor([0.0932], device='cuda:0', requires_grad=True)]\n",
      "Epoch: 60, Loss: 0.007105490658432245, Parameters: [Parameter containing:\n",
      "tensor([[0.7019]], device='cuda:0', requires_grad=True), Parameter containing:\n",
      "tensor([0.0932], device='cuda:0', requires_grad=True)]\n",
      "Epoch: 70, Loss: 0.007105490658432245, Parameters: [Parameter containing:\n",
      "tensor([[0.7019]], device='cuda:0', requires_grad=True), Parameter containing:\n",
      "tensor([0.0932], device='cuda:0', requires_grad=True)]\n",
      "Epoch: 80, Loss: 0.007105490658432245, Parameters: [Parameter containing:\n",
      "tensor([[0.7019]], device='cuda:0', requires_grad=True), Parameter containing:\n",
      "tensor([0.0932], device='cuda:0', requires_grad=True)]\n",
      "Epoch: 90, Loss: 0.007105548866093159, Parameters: [Parameter containing:\n",
      "tensor([[0.7019]], device='cuda:0', requires_grad=True), Parameter containing:\n",
      "tensor([0.0932], device='cuda:0', requires_grad=True)]\n"
     ]
    }
   ],
   "source": [
    "# Recording the epoch counts, loss\n",
    "epoch_list = []\n",
    "train_loss_list = []\n",
    "# Training\n",
    "# 1. Loop through theh data\n",
    "for epoch in range(epochs):\n",
    "    # Set the model to training mode\n",
    "    model.train()\n",
    "    \n",
    "    # 2. Foward propagation\n",
    "    y_preds = model(X_train)\n",
    "    \n",
    "    # 3. Compute the loss\n",
    "    loss = criterion(y_preds, y_train) # predictions first\n",
    "    # print(f\"Training loss: {loss.item()}\")\n",
    "    # 4. Backward propagation\n",
    "    optimizer.zero_grad() # If not, the gradients get accumulated\n",
    "    loss.backward() # compute the gradients of parameters\n",
    "    optimizer.step() # update the parameters\n",
    "    epoch_list.append(epoch)\n",
    "    train_loss_list.append(loss.item())\n",
    "    if epoch % 10 == 0:\n",
    "        print(f\"Epoch: {epoch}, Loss: {loss.item()}, Parameters: {list(model.parameters())}\")\n",
    "\n",
    "    # Set the model to evaluating mode and turn off gradient tracking\n",
    "    # model.eval()"
   ]
  },
  {
   "cell_type": "code",
   "execution_count": 764,
   "id": "d7707ac6-7565-4a7b-b014-6cf2e7301298",
   "metadata": {},
   "outputs": [
    {
     "data": {
      "text/plain": [
       "Text(0.5, 1.0, 'Training loss curve')"
      ]
     },
     "execution_count": 764,
     "metadata": {},
     "output_type": "execute_result"
    },
    {
     "data": {
      "image/png": "[encoded data removed]",
      "text/plain": [
       "<Figure size 432x864 with 1 Axes>"
      ]
     },
     "metadata": {
      "needs_background": "light"
     },
     "output_type": "display_data"
    }
   ],
   "source": [
    "# Plot the loss curves\n",
    "plt.figure(figsize=(6,12))\n",
    "plt.plot(epoch_list, train_loss_list, label=\"Training Loss\")\n",
    "plt.title(\"Training loss curve\")"
   ]
  },
  {
   "cell_type": "markdown",
   "id": "aa75ed41-430b-4b3c-b9af-45d9f0509a08",
   "metadata": {},
   "source": [
    "## Check parameters after training"
   ]
  },
  {
   "cell_type": "code",
   "execution_count": 765,
   "id": "0bd3faad-28d6-4338-994d-17ecea8d19f6",
   "metadata": {},
   "outputs": [
    {
     "data": {
      "text/plain": [
       "OrderedDict([('linear_layer.weight', tensor([[0.7019]], device='cuda:0')),\n",
       "             ('linear_layer.bias', tensor([0.0932], device='cuda:0'))])"
      ]
     },
     "execution_count": 765,
     "metadata": {},
     "output_type": "execute_result"
    }
   ],
   "source": [
    "model.state_dict()"
   ]
  },
  {
   "cell_type": "markdown",
   "id": "f3d96d71-3eba-47ef-b197-d6b59a5fdb25",
   "metadata": {},
   "source": [
    "# Evaluating"
   ]
  },
  {
   "cell_type": "code",
   "execution_count": 766,
   "id": "00447701-baa2-423d-a6d2-a856bc6b3d26",
   "metadata": {},
   "outputs": [],
   "source": [
    "# evaluating model on training set:\n",
    "model.eval()\n",
    "\n",
    "with torch.inference_mode():\n",
    "    y_preds = model(X_train)"
   ]
  },
  {
   "cell_type": "code",
   "execution_count": 767,
   "id": "d984b94a-b38a-4a88-b027-616800b662fb",
   "metadata": {},
   "outputs": [],
   "source": [
    "X_train = X_train.cpu()\n",
    "y_train = y_train.cpu()\n",
    "X_test = X_test.cpu()\n",
    "y_test = y_test.cpu()\n",
    "y_preds= y_preds.cpu()"
   ]
  },
  {
   "cell_type": "code",
   "execution_count": 768,
   "id": "7a0ee4c3-cbc5-4440-bc57-6d54d4167b3d",
   "metadata": {},
   "outputs": [
    {
     "data": {
      "text/plain": [
       "<matplotlib.legend.Legend at 0x24b8081cfa0>"
      ]
     },
     "execution_count": 768,
     "metadata": {},
     "output_type": "execute_result"
    },
    {
     "data": {
      "image/png": "[encoded data removed]",
      "text/plain": [
       "<Figure size 864x432 with 1 Axes>"
      ]
     },
     "metadata": {
      "needs_background": "light"
     },
     "output_type": "display_data"
    }
   ],
   "source": [
    "plt.figure(figsize=(12,6))\n",
    "# plt.scatter(X_train, y_train , c=\"b\", s=8, label=\"Training data\")\n",
    "plt.scatter(X_train, y_train , c=\"g\", s=8, label=\"Training data\")\n",
    "plt.scatter(X_train, y_preds , c=\"r\", s=8, label=\"Predictions\")\n",
    "plt.legend(prop={\"size\":14})"
   ]
  },
  {
   "cell_type": "markdown",
   "id": "f6eebfb5-cf8c-4d2b-bba3-cecc204154be",
   "metadata": {},
   "source": [
    "# Predicting"
   ]
  },
  {
   "cell_type": "code",
   "execution_count": 789,
   "id": "c91fa7db-ac16-4b6e-91c5-e9b7d4b38a08",
   "metadata": {},
   "outputs": [
    {
     "data": {
      "text/plain": [
       "Parameter containing:\n",
       "tensor([[0.7019]], requires_grad=True)"
      ]
     },
     "execution_count": 789,
     "metadata": {},
     "output_type": "execute_result"
    }
   ],
   "source": [
    "model.cpu()\n",
    "next(model.parameters()).cpu()"
   ]
  },
  {
   "cell_type": "code",
   "execution_count": 790,
   "id": "a4b99723-3a16-420f-b41b-5f8bb920a3f2",
   "metadata": {},
   "outputs": [
    {
     "data": {
      "text/plain": [
       "tensor(0.0414)"
      ]
     },
     "execution_count": 790,
     "metadata": {},
     "output_type": "execute_result"
    }
   ],
   "source": [
    "with torch.inference_mode():\n",
    "    preds = model(X_test)\n",
    "test_loss = criterion(preds, X_test)\n",
    "test_loss"
   ]
  },
  {
   "cell_type": "code",
   "execution_count": 791,
   "id": "a4405548-2c67-46ab-86c8-825f7b31a633",
   "metadata": {},
   "outputs": [
    {
     "data": {
      "text/plain": [
       "<matplotlib.legend.Legend at 0x24b8c77f820>"
      ]
     },
     "execution_count": 791,
     "metadata": {},
     "output_type": "execute_result"
    },
    {
     "data": {
      "image/png": "[encoded data removed]",
      "text/plain": [
       "<Figure size 864x432 with 1 Axes>"
      ]
     },
     "metadata": {
      "needs_background": "light"
     },
     "output_type": "display_data"
    }
   ],
   "source": [
    "plt.figure(figsize=(12,6))\n",
    "\n",
    "plt.scatter(X_test, y_test , c=\"g\", s=8, label=\"Testing data\")\n",
    "plt.scatter(X_test, preds , c=\"r\", s=8, label=\"Predictions\")\n",
    "plt.legend(prop={\"size\":14})"
   ]
  },
  {
   "cell_type": "code",
   "execution_count": 792,
   "id": "539d95a1-4fa1-49ce-b799-c25ba57f05f7",
   "metadata": {},
   "outputs": [
    {
     "data": {
      "text/plain": [
       "OrderedDict([('linear_layer.weight', tensor([[0.7019]])),\n",
       "             ('linear_layer.bias', tensor([0.0932]))])"
      ]
     },
     "execution_count": 792,
     "metadata": {},
     "output_type": "execute_result"
    }
   ],
   "source": [
    "model.state_dict()"
   ]
  },
  {
   "cell_type": "code",
   "execution_count": 793,
   "id": "0c02b128-3fb7-4fff-a6e3-46ab9ff6e628",
   "metadata": {},
   "outputs": [
    {
     "data": {
      "text/plain": [
       "{'state': {0: {'momentum_buffer': None}, 1: {'momentum_buffer': None}},\n",
       " 'param_groups': [{'lr': 0.1,\n",
       "   'momentum': 0,\n",
       "   'dampening': 0,\n",
       "   'weight_decay': 0,\n",
       "   'nesterov': False,\n",
       "   'maximize': False,\n",
       "   'params': [0, 1]}]}"
      ]
     },
     "execution_count": 793,
     "metadata": {},
     "output_type": "execute_result"
    }
   ],
   "source": [
    "optimizer.state_dict()"
   ]
  },
  {
   "cell_type": "markdown",
   "id": "a07d9dce-fcdb-4de3-b4cc-83b5300a621f",
   "metadata": {},
   "source": [
    "# Saving and loading the model\n",
    "1. `torch.save()`: save a PyTorch object in Python's pickle format\n",
    "2. `torch.load()`: load a saved PyTorch object\n",
    "3. `torch.nn.Module.load_state_dict()`: load a model's saved state dictionary"
   ]
  },
  {
   "cell_type": "markdown",
   "id": "0c4bd419-121c-4bd6-8197-b974a1150b6a",
   "metadata": {},
   "source": [
    "## Saving the model"
   ]
  },
  {
   "cell_type": "code",
   "execution_count": 794,
   "id": "14843a92-f78f-46c6-a641-88eec2b2e4bb",
   "metadata": {},
   "outputs": [],
   "source": [
    "import os"
   ]
  },
  {
   "cell_type": "code",
   "execution_count": 795,
   "id": "3ee403b1-8a09-481d-98fc-fb07c1d2b1fe",
   "metadata": {},
   "outputs": [],
   "source": [
    "# Creating the save path\n",
    "PATH = \"./models\"\n",
    "os.mkdir(path=\"./models\")\n",
    "MODEL_NAME = \"linear_regression_model.pth\"\n"
   ]
  },
  {
   "cell_type": "code",
   "execution_count": 796,
   "id": "ab54eabb-59c9-486f-8ed6-e499e0ab5afd",
   "metadata": {},
   "outputs": [
    {
     "data": {
      "text/plain": [
       "'./models/linear_regression_model.pth'"
      ]
     },
     "execution_count": 796,
     "metadata": {},
     "output_type": "execute_result"
    }
   ],
   "source": [
    "MODEL_SAVE_PATH = PATH+'/'+MODEL_NAME\n",
    "MODEL_SAVE_PATH"
   ]
  },
  {
   "cell_type": "code",
   "execution_count": 797,
   "id": "3e612d9f-4b63-419a-929b-55eb502aa74d",
   "metadata": {},
   "outputs": [],
   "source": [
    "torch.save(obj=model.state_dict(),f=MODEL_SAVE_PATH)"
   ]
  },
  {
   "cell_type": "markdown",
   "id": "d4524061-e1ff-4720-aea6-a3a676265add",
   "metadata": {},
   "source": [
    "## Loading the model"
   ]
  },
  {
   "cell_type": "code",
   "execution_count": 798,
   "id": "b4e8b865-bca3-4dfa-a81d-9f39386f9b0f",
   "metadata": {},
   "outputs": [
    {
     "data": {
      "text/plain": [
       "OrderedDict([('linear_layer.weight', tensor([[0.7019]])),\n",
       "             ('linear_layer.bias', tensor([0.0932]))])"
      ]
     },
     "execution_count": 798,
     "metadata": {},
     "output_type": "execute_result"
    }
   ],
   "source": [
    "model.state_dict()"
   ]
  },
  {
   "cell_type": "code",
   "execution_count": 800,
   "id": "f4e3d670-515b-4b87-b910-5afa71878e57",
   "metadata": {},
   "outputs": [
    {
     "data": {
      "text/plain": [
       "<All keys matched successfully>"
      ]
     },
     "execution_count": 800,
     "metadata": {},
     "output_type": "execute_result"
    }
   ],
   "source": [
    "# Instantiate a new instance of the model class\n",
    "loaded_model = LinearRegressionModel(1,1)\n",
    "\n",
    "# Load the saved model's state_dict into loaded_model\n",
    "loaded_model.load_state_dict(torch.load(f=MODEL_SAVE_PATH))"
   ]
  },
  {
   "cell_type": "code",
   "execution_count": 801,
   "id": "c4f4b02a-c5f1-41ee-9d8d-63d709401f6e",
   "metadata": {},
   "outputs": [
    {
     "data": {
      "text/plain": [
       "OrderedDict([('linear_layer.weight', tensor([[0.7019]])),\n",
       "             ('linear_layer.bias', tensor([0.0932]))])"
      ]
     },
     "execution_count": 801,
     "metadata": {},
     "output_type": "execute_result"
    }
   ],
   "source": [
    "loaded_model.state_dict()\n",
    "# Loaded successfully"
   ]
  },
  {
   "cell_type": "code",
   "execution_count": 802,
   "id": "31df9642-4186-4917-bf29-afd06a8d5795",
   "metadata": {},
   "outputs": [
    {
     "data": {
      "text/plain": [
       "(tensor([[-0.8478],\n",
       "         [-0.3177],\n",
       "         [ 0.4695],\n",
       "         [ 0.4614],\n",
       "         [ 0.8421],\n",
       "         [-0.2228],\n",
       "         [-0.3832],\n",
       "         [ 0.4963],\n",
       "         [ 0.2250],\n",
       "         [-0.1578],\n",
       "         [-0.1290],\n",
       "         [ 0.5064],\n",
       "         [ 0.0923],\n",
       "         [-0.1199],\n",
       "         [-0.5992],\n",
       "         [ 0.1797],\n",
       "         [ 0.3388],\n",
       "         [ 0.5265],\n",
       "         [-0.0257],\n",
       "         [ 0.2569]]),\n",
       " tensor(0.0414))"
      ]
     },
     "execution_count": 802,
     "metadata": {},
     "output_type": "execute_result"
    }
   ],
   "source": [
    "# Predicting with the loaded model\n",
    "with torch.inference_mode():\n",
    "    new_preds = loaded_model(X_test)\n",
    "test_loss = criterion(new_preds, X_test)\n",
    "new_preds, test_loss"
   ]
  },
  {
   "cell_type": "code",
   "execution_count": 803,
   "id": "df43d399-c786-438e-8fbf-89eb04e958fd",
   "metadata": {},
   "outputs": [
    {
     "data": {
      "text/plain": [
       "tensor([[True],\n",
       "        [True],\n",
       "        [True],\n",
       "        [True],\n",
       "        [True],\n",
       "        [True],\n",
       "        [True],\n",
       "        [True],\n",
       "        [True],\n",
       "        [True],\n",
       "        [True],\n",
       "        [True],\n",
       "        [True],\n",
       "        [True],\n",
       "        [True],\n",
       "        [True],\n",
       "        [True],\n",
       "        [True],\n",
       "        [True],\n",
       "        [True]])"
      ]
     },
     "execution_count": 803,
     "metadata": {},
     "output_type": "execute_result"
    }
   ],
   "source": [
    "new_preds == preds"
   ]
  },
  {
   "cell_type": "code",
   "execution_count": null,
   "id": "b36eb0e7-2e4e-485e-b6b6-21e95889635a",
   "metadata": {},
   "outputs": [],
   "source": []
  }
 ],
 "metadata": {
  "kernelspec": {
   "display_name": "Python 3 (ipykernel)",
   "language": "python",
   "name": "python3"
  },
  "language_info": {
   "codemirror_mode": {
    "name": "ipython",
    "version": 3
   },
   "file_extension": ".py",
   "mimetype": "text/x-python",
   "name": "python",
   "nbconvert_exporter": "python",
   "pygments_lexer": "ipython3",
   "version": "3.9.7"
  },
  "toc-autonumbering": true,
  "toc-showcode": false,
  "toc-showmarkdowntxt": false
 },
 "nbformat": 4,
 "nbformat_minor": 5
}
