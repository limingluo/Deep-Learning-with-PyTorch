{
 "cells": [
  {
   "cell_type": "markdown",
   "id": "c6f064e4-6a87-4ed6-8433-65c2ece8bca1",
   "metadata": {},
   "source": [
    "# Libraries"
   ]
  },
  {
   "cell_type": "code",
   "execution_count": 1,
   "id": "a86e63d6-4fcc-42ca-8b42-5220a23ef01d",
   "metadata": {},
   "outputs": [],
   "source": [
    "import torch\n",
    "import sklearn\n",
    "import numpy as np\n",
    "import pandas as pd\n",
    "from torch import nn\n",
    "from matplotlib import pyplot as plt\n",
    "from sklearn import preprocessing\n",
    "from sklearn.datasets import load_wine\n",
    "from sklearn.metrics import accuracy_score\n",
    "from sklearn.preprocessing import OneHotEncoder\n",
    "from sklearn.model_selection import train_test_split"
   ]
  },
  {
   "cell_type": "code",
   "execution_count": 2,
   "id": "be66f9e2-c582-4cfb-8d5b-62641510e653",
   "metadata": {},
   "outputs": [
    {
     "data": {
      "text/plain": [
       "'cuda'"
      ]
     },
     "execution_count": 2,
     "metadata": {},
     "output_type": "execute_result"
    }
   ],
   "source": [
    "device = \"cuda\" if torch.cuda.is_available() is True else \"cpu\"\n",
    "device"
   ]
  },
  {
   "cell_type": "markdown",
   "id": "1dea3e9e-da34-4591-9e60-4bbdd0932c17",
   "metadata": {},
   "source": [
    "# Data"
   ]
  },
  {
   "cell_type": "markdown",
   "id": "a0aea512-2ccd-4dce-8fba-f030668724dd",
   "metadata": {},
   "source": [
    "## Import Data"
   ]
  },
  {
   "cell_type": "code",
   "execution_count": 3,
   "id": "c4ee9b1c-d031-48a0-8b78-06363412bfa3",
   "metadata": {},
   "outputs": [],
   "source": [
    "data = load_wine(as_frame=True) # Import as pandas dataframe"
   ]
  },
  {
   "cell_type": "code",
   "execution_count": 4,
   "id": "34c7ba9d-4124-44c4-9e3c-abaaba0e0e43",
   "metadata": {},
   "outputs": [
    {
     "name": "stdout",
     "output_type": "stream",
     "text": [
      "Feature names:['alcohol', 'malic_acid', 'ash', 'alcalinity_of_ash', 'magnesium', 'total_phenols', 'flavanoids', 'nonflavanoid_phenols', 'proanthocyanins', 'color_intensity', 'hue', 'od280/od315_of_diluted_wines', 'proline'];\n",
      "\n",
      " Label names: ['class_0' 'class_1' 'class_2']\n"
     ]
    }
   ],
   "source": [
    "print(f\"Feature names:{data.feature_names};\\n\\n Label names: {data.target_names}\")"
   ]
  },
  {
   "cell_type": "code",
   "execution_count": 5,
   "id": "563832af-3995-4bdb-8f0d-1c0f80e049ab",
   "metadata": {},
   "outputs": [
    {
     "name": "stdout",
     "output_type": "stream",
     "text": [
      "(178, 13)\n"
     ]
    }
   ],
   "source": [
    "print(data.data.shape)"
   ]
  },
  {
   "cell_type": "markdown",
   "id": "9cc8494e-d19c-44cb-a63d-fdc0cae30b60",
   "metadata": {},
   "source": [
    "## Exploratory Data Analysis"
   ]
  },
  {
   "cell_type": "code",
   "execution_count": 6,
   "id": "a71f30f7-bdb6-4d0f-99b2-034b53c4e854",
   "metadata": {},
   "outputs": [
    {
     "data": {
      "text/html": [
       "<div>\n",
       "<style scoped>\n",
       "    .dataframe tbody tr th:only-of-type {\n",
       "        vertical-align: middle;\n",
       "    }\n",
       "\n",
       "    .dataframe tbody tr th {\n",
       "        vertical-align: top;\n",
       "    }\n",
       "\n",
       "    .dataframe thead th {\n",
       "        text-align: right;\n",
       "    }\n",
       "</style>\n",
       "<table border=\"1\" class=\"dataframe\">\n",
       "  <thead>\n",
       "    <tr style=\"text-align: right;\">\n",
       "      <th></th>\n",
       "      <th>alcohol</th>\n",
       "      <th>malic_acid</th>\n",
       "      <th>ash</th>\n",
       "      <th>alcalinity_of_ash</th>\n",
       "      <th>magnesium</th>\n",
       "      <th>total_phenols</th>\n",
       "      <th>flavanoids</th>\n",
       "      <th>nonflavanoid_phenols</th>\n",
       "      <th>proanthocyanins</th>\n",
       "      <th>color_intensity</th>\n",
       "      <th>hue</th>\n",
       "      <th>od280/od315_of_diluted_wines</th>\n",
       "      <th>proline</th>\n",
       "    </tr>\n",
       "  </thead>\n",
       "  <tbody>\n",
       "    <tr>\n",
       "      <th>0</th>\n",
       "      <td>14.23</td>\n",
       "      <td>1.71</td>\n",
       "      <td>2.43</td>\n",
       "      <td>15.6</td>\n",
       "      <td>127.0</td>\n",
       "      <td>2.80</td>\n",
       "      <td>3.06</td>\n",
       "      <td>0.28</td>\n",
       "      <td>2.29</td>\n",
       "      <td>5.64</td>\n",
       "      <td>1.04</td>\n",
       "      <td>3.92</td>\n",
       "      <td>1065.0</td>\n",
       "    </tr>\n",
       "    <tr>\n",
       "      <th>1</th>\n",
       "      <td>13.20</td>\n",
       "      <td>1.78</td>\n",
       "      <td>2.14</td>\n",
       "      <td>11.2</td>\n",
       "      <td>100.0</td>\n",
       "      <td>2.65</td>\n",
       "      <td>2.76</td>\n",
       "      <td>0.26</td>\n",
       "      <td>1.28</td>\n",
       "      <td>4.38</td>\n",
       "      <td>1.05</td>\n",
       "      <td>3.40</td>\n",
       "      <td>1050.0</td>\n",
       "    </tr>\n",
       "    <tr>\n",
       "      <th>2</th>\n",
       "      <td>13.16</td>\n",
       "      <td>2.36</td>\n",
       "      <td>2.67</td>\n",
       "      <td>18.6</td>\n",
       "      <td>101.0</td>\n",
       "      <td>2.80</td>\n",
       "      <td>3.24</td>\n",
       "      <td>0.30</td>\n",
       "      <td>2.81</td>\n",
       "      <td>5.68</td>\n",
       "      <td>1.03</td>\n",
       "      <td>3.17</td>\n",
       "      <td>1185.0</td>\n",
       "    </tr>\n",
       "    <tr>\n",
       "      <th>3</th>\n",
       "      <td>14.37</td>\n",
       "      <td>1.95</td>\n",
       "      <td>2.50</td>\n",
       "      <td>16.8</td>\n",
       "      <td>113.0</td>\n",
       "      <td>3.85</td>\n",
       "      <td>3.49</td>\n",
       "      <td>0.24</td>\n",
       "      <td>2.18</td>\n",
       "      <td>7.80</td>\n",
       "      <td>0.86</td>\n",
       "      <td>3.45</td>\n",
       "      <td>1480.0</td>\n",
       "    </tr>\n",
       "    <tr>\n",
       "      <th>4</th>\n",
       "      <td>13.24</td>\n",
       "      <td>2.59</td>\n",
       "      <td>2.87</td>\n",
       "      <td>21.0</td>\n",
       "      <td>118.0</td>\n",
       "      <td>2.80</td>\n",
       "      <td>2.69</td>\n",
       "      <td>0.39</td>\n",
       "      <td>1.82</td>\n",
       "      <td>4.32</td>\n",
       "      <td>1.04</td>\n",
       "      <td>2.93</td>\n",
       "      <td>735.0</td>\n",
       "    </tr>\n",
       "    <tr>\n",
       "      <th>...</th>\n",
       "      <td>...</td>\n",
       "      <td>...</td>\n",
       "      <td>...</td>\n",
       "      <td>...</td>\n",
       "      <td>...</td>\n",
       "      <td>...</td>\n",
       "      <td>...</td>\n",
       "      <td>...</td>\n",
       "      <td>...</td>\n",
       "      <td>...</td>\n",
       "      <td>...</td>\n",
       "      <td>...</td>\n",
       "      <td>...</td>\n",
       "    </tr>\n",
       "    <tr>\n",
       "      <th>173</th>\n",
       "      <td>13.71</td>\n",
       "      <td>5.65</td>\n",
       "      <td>2.45</td>\n",
       "      <td>20.5</td>\n",
       "      <td>95.0</td>\n",
       "      <td>1.68</td>\n",
       "      <td>0.61</td>\n",
       "      <td>0.52</td>\n",
       "      <td>1.06</td>\n",
       "      <td>7.70</td>\n",
       "      <td>0.64</td>\n",
       "      <td>1.74</td>\n",
       "      <td>740.0</td>\n",
       "    </tr>\n",
       "    <tr>\n",
       "      <th>174</th>\n",
       "      <td>13.40</td>\n",
       "      <td>3.91</td>\n",
       "      <td>2.48</td>\n",
       "      <td>23.0</td>\n",
       "      <td>102.0</td>\n",
       "      <td>1.80</td>\n",
       "      <td>0.75</td>\n",
       "      <td>0.43</td>\n",
       "      <td>1.41</td>\n",
       "      <td>7.30</td>\n",
       "      <td>0.70</td>\n",
       "      <td>1.56</td>\n",
       "      <td>750.0</td>\n",
       "    </tr>\n",
       "    <tr>\n",
       "      <th>175</th>\n",
       "      <td>13.27</td>\n",
       "      <td>4.28</td>\n",
       "      <td>2.26</td>\n",
       "      <td>20.0</td>\n",
       "      <td>120.0</td>\n",
       "      <td>1.59</td>\n",
       "      <td>0.69</td>\n",
       "      <td>0.43</td>\n",
       "      <td>1.35</td>\n",
       "      <td>10.20</td>\n",
       "      <td>0.59</td>\n",
       "      <td>1.56</td>\n",
       "      <td>835.0</td>\n",
       "    </tr>\n",
       "    <tr>\n",
       "      <th>176</th>\n",
       "      <td>13.17</td>\n",
       "      <td>2.59</td>\n",
       "      <td>2.37</td>\n",
       "      <td>20.0</td>\n",
       "      <td>120.0</td>\n",
       "      <td>1.65</td>\n",
       "      <td>0.68</td>\n",
       "      <td>0.53</td>\n",
       "      <td>1.46</td>\n",
       "      <td>9.30</td>\n",
       "      <td>0.60</td>\n",
       "      <td>1.62</td>\n",
       "      <td>840.0</td>\n",
       "    </tr>\n",
       "    <tr>\n",
       "      <th>177</th>\n",
       "      <td>14.13</td>\n",
       "      <td>4.10</td>\n",
       "      <td>2.74</td>\n",
       "      <td>24.5</td>\n",
       "      <td>96.0</td>\n",
       "      <td>2.05</td>\n",
       "      <td>0.76</td>\n",
       "      <td>0.56</td>\n",
       "      <td>1.35</td>\n",
       "      <td>9.20</td>\n",
       "      <td>0.61</td>\n",
       "      <td>1.60</td>\n",
       "      <td>560.0</td>\n",
       "    </tr>\n",
       "  </tbody>\n",
       "</table>\n",
       "<p>178 rows × 13 columns</p>\n",
       "</div>"
      ],
      "text/plain": [
       "     alcohol  malic_acid   ash  alcalinity_of_ash  magnesium  total_phenols  \\\n",
       "0      14.23        1.71  2.43               15.6      127.0           2.80   \n",
       "1      13.20        1.78  2.14               11.2      100.0           2.65   \n",
       "2      13.16        2.36  2.67               18.6      101.0           2.80   \n",
       "3      14.37        1.95  2.50               16.8      113.0           3.85   \n",
       "4      13.24        2.59  2.87               21.0      118.0           2.80   \n",
       "..       ...         ...   ...                ...        ...            ...   \n",
       "173    13.71        5.65  2.45               20.5       95.0           1.68   \n",
       "174    13.40        3.91  2.48               23.0      102.0           1.80   \n",
       "175    13.27        4.28  2.26               20.0      120.0           1.59   \n",
       "176    13.17        2.59  2.37               20.0      120.0           1.65   \n",
       "177    14.13        4.10  2.74               24.5       96.0           2.05   \n",
       "\n",
       "     flavanoids  nonflavanoid_phenols  proanthocyanins  color_intensity   hue  \\\n",
       "0          3.06                  0.28             2.29             5.64  1.04   \n",
       "1          2.76                  0.26             1.28             4.38  1.05   \n",
       "2          3.24                  0.30             2.81             5.68  1.03   \n",
       "3          3.49                  0.24             2.18             7.80  0.86   \n",
       "4          2.69                  0.39             1.82             4.32  1.04   \n",
       "..          ...                   ...              ...              ...   ...   \n",
       "173        0.61                  0.52             1.06             7.70  0.64   \n",
       "174        0.75                  0.43             1.41             7.30  0.70   \n",
       "175        0.69                  0.43             1.35            10.20  0.59   \n",
       "176        0.68                  0.53             1.46             9.30  0.60   \n",
       "177        0.76                  0.56             1.35             9.20  0.61   \n",
       "\n",
       "     od280/od315_of_diluted_wines  proline  \n",
       "0                            3.92   1065.0  \n",
       "1                            3.40   1050.0  \n",
       "2                            3.17   1185.0  \n",
       "3                            3.45   1480.0  \n",
       "4                            2.93    735.0  \n",
       "..                            ...      ...  \n",
       "173                          1.74    740.0  \n",
       "174                          1.56    750.0  \n",
       "175                          1.56    835.0  \n",
       "176                          1.62    840.0  \n",
       "177                          1.60    560.0  \n",
       "\n",
       "[178 rows x 13 columns]"
      ]
     },
     "execution_count": 6,
     "metadata": {},
     "output_type": "execute_result"
    }
   ],
   "source": [
    "data.data"
   ]
  },
  {
   "cell_type": "code",
   "execution_count": 7,
   "id": "eeeebee7-3334-4a67-88af-3f6bd2c1507f",
   "metadata": {},
   "outputs": [],
   "source": [
    "X = data.data\n",
    "y = data.target"
   ]
  },
  {
   "cell_type": "markdown",
   "id": "2856755a-bde1-4756-b252-ced2d865416b",
   "metadata": {},
   "source": [
    "### Data Info\n",
    "There are 178 examples in total with 13 features and 3 targets for each instance"
   ]
  },
  {
   "cell_type": "code",
   "execution_count": 8,
   "id": "6f4dd906-1c81-46c2-be56-e0c26ffb5c13",
   "metadata": {},
   "outputs": [
    {
     "name": "stdout",
     "output_type": "stream",
     "text": [
      "<class 'pandas.core.frame.DataFrame'>\n",
      "RangeIndex: 178 entries, 0 to 177\n",
      "Data columns (total 13 columns):\n",
      " #   Column                        Non-Null Count  Dtype  \n",
      "---  ------                        --------------  -----  \n",
      " 0   alcohol                       178 non-null    float64\n",
      " 1   malic_acid                    178 non-null    float64\n",
      " 2   ash                           178 non-null    float64\n",
      " 3   alcalinity_of_ash             178 non-null    float64\n",
      " 4   magnesium                     178 non-null    float64\n",
      " 5   total_phenols                 178 non-null    float64\n",
      " 6   flavanoids                    178 non-null    float64\n",
      " 7   nonflavanoid_phenols          178 non-null    float64\n",
      " 8   proanthocyanins               178 non-null    float64\n",
      " 9   color_intensity               178 non-null    float64\n",
      " 10  hue                           178 non-null    float64\n",
      " 11  od280/od315_of_diluted_wines  178 non-null    float64\n",
      " 12  proline                       178 non-null    float64\n",
      "dtypes: float64(13)\n",
      "memory usage: 18.2 KB\n"
     ]
    }
   ],
   "source": [
    "data.data.info()"
   ]
  },
  {
   "cell_type": "code",
   "execution_count": 9,
   "id": "8fa90980-5132-4afb-86e2-e0f1b9c92ebb",
   "metadata": {},
   "outputs": [
    {
     "data": {
      "text/html": [
       "<div>\n",
       "<style scoped>\n",
       "    .dataframe tbody tr th:only-of-type {\n",
       "        vertical-align: middle;\n",
       "    }\n",
       "\n",
       "    .dataframe tbody tr th {\n",
       "        vertical-align: top;\n",
       "    }\n",
       "\n",
       "    .dataframe thead th {\n",
       "        text-align: right;\n",
       "    }\n",
       "</style>\n",
       "<table border=\"1\" class=\"dataframe\">\n",
       "  <thead>\n",
       "    <tr style=\"text-align: right;\">\n",
       "      <th></th>\n",
       "      <th>alcohol</th>\n",
       "      <th>malic_acid</th>\n",
       "      <th>ash</th>\n",
       "      <th>alcalinity_of_ash</th>\n",
       "      <th>magnesium</th>\n",
       "      <th>total_phenols</th>\n",
       "      <th>flavanoids</th>\n",
       "      <th>nonflavanoid_phenols</th>\n",
       "      <th>proanthocyanins</th>\n",
       "      <th>color_intensity</th>\n",
       "      <th>hue</th>\n",
       "      <th>od280/od315_of_diluted_wines</th>\n",
       "      <th>proline</th>\n",
       "    </tr>\n",
       "  </thead>\n",
       "  <tbody>\n",
       "    <tr>\n",
       "      <th>count</th>\n",
       "      <td>178.000000</td>\n",
       "      <td>178.000000</td>\n",
       "      <td>178.000000</td>\n",
       "      <td>178.000000</td>\n",
       "      <td>178.000000</td>\n",
       "      <td>178.000000</td>\n",
       "      <td>178.000000</td>\n",
       "      <td>178.000000</td>\n",
       "      <td>178.000000</td>\n",
       "      <td>178.000000</td>\n",
       "      <td>178.000000</td>\n",
       "      <td>178.000000</td>\n",
       "      <td>178.000000</td>\n",
       "    </tr>\n",
       "    <tr>\n",
       "      <th>mean</th>\n",
       "      <td>13.000618</td>\n",
       "      <td>2.336348</td>\n",
       "      <td>2.366517</td>\n",
       "      <td>19.494944</td>\n",
       "      <td>99.741573</td>\n",
       "      <td>2.295112</td>\n",
       "      <td>2.029270</td>\n",
       "      <td>0.361854</td>\n",
       "      <td>1.590899</td>\n",
       "      <td>5.058090</td>\n",
       "      <td>0.957449</td>\n",
       "      <td>2.611685</td>\n",
       "      <td>746.893258</td>\n",
       "    </tr>\n",
       "    <tr>\n",
       "      <th>std</th>\n",
       "      <td>0.811827</td>\n",
       "      <td>1.117146</td>\n",
       "      <td>0.274344</td>\n",
       "      <td>3.339564</td>\n",
       "      <td>14.282484</td>\n",
       "      <td>0.625851</td>\n",
       "      <td>0.998859</td>\n",
       "      <td>0.124453</td>\n",
       "      <td>0.572359</td>\n",
       "      <td>2.318286</td>\n",
       "      <td>0.228572</td>\n",
       "      <td>0.709990</td>\n",
       "      <td>314.907474</td>\n",
       "    </tr>\n",
       "    <tr>\n",
       "      <th>min</th>\n",
       "      <td>11.030000</td>\n",
       "      <td>0.740000</td>\n",
       "      <td>1.360000</td>\n",
       "      <td>10.600000</td>\n",
       "      <td>70.000000</td>\n",
       "      <td>0.980000</td>\n",
       "      <td>0.340000</td>\n",
       "      <td>0.130000</td>\n",
       "      <td>0.410000</td>\n",
       "      <td>1.280000</td>\n",
       "      <td>0.480000</td>\n",
       "      <td>1.270000</td>\n",
       "      <td>278.000000</td>\n",
       "    </tr>\n",
       "    <tr>\n",
       "      <th>25%</th>\n",
       "      <td>12.362500</td>\n",
       "      <td>1.602500</td>\n",
       "      <td>2.210000</td>\n",
       "      <td>17.200000</td>\n",
       "      <td>88.000000</td>\n",
       "      <td>1.742500</td>\n",
       "      <td>1.205000</td>\n",
       "      <td>0.270000</td>\n",
       "      <td>1.250000</td>\n",
       "      <td>3.220000</td>\n",
       "      <td>0.782500</td>\n",
       "      <td>1.937500</td>\n",
       "      <td>500.500000</td>\n",
       "    </tr>\n",
       "    <tr>\n",
       "      <th>50%</th>\n",
       "      <td>13.050000</td>\n",
       "      <td>1.865000</td>\n",
       "      <td>2.360000</td>\n",
       "      <td>19.500000</td>\n",
       "      <td>98.000000</td>\n",
       "      <td>2.355000</td>\n",
       "      <td>2.135000</td>\n",
       "      <td>0.340000</td>\n",
       "      <td>1.555000</td>\n",
       "      <td>4.690000</td>\n",
       "      <td>0.965000</td>\n",
       "      <td>2.780000</td>\n",
       "      <td>673.500000</td>\n",
       "    </tr>\n",
       "    <tr>\n",
       "      <th>75%</th>\n",
       "      <td>13.677500</td>\n",
       "      <td>3.082500</td>\n",
       "      <td>2.557500</td>\n",
       "      <td>21.500000</td>\n",
       "      <td>107.000000</td>\n",
       "      <td>2.800000</td>\n",
       "      <td>2.875000</td>\n",
       "      <td>0.437500</td>\n",
       "      <td>1.950000</td>\n",
       "      <td>6.200000</td>\n",
       "      <td>1.120000</td>\n",
       "      <td>3.170000</td>\n",
       "      <td>985.000000</td>\n",
       "    </tr>\n",
       "    <tr>\n",
       "      <th>max</th>\n",
       "      <td>14.830000</td>\n",
       "      <td>5.800000</td>\n",
       "      <td>3.230000</td>\n",
       "      <td>30.000000</td>\n",
       "      <td>162.000000</td>\n",
       "      <td>3.880000</td>\n",
       "      <td>5.080000</td>\n",
       "      <td>0.660000</td>\n",
       "      <td>3.580000</td>\n",
       "      <td>13.000000</td>\n",
       "      <td>1.710000</td>\n",
       "      <td>4.000000</td>\n",
       "      <td>1680.000000</td>\n",
       "    </tr>\n",
       "  </tbody>\n",
       "</table>\n",
       "</div>"
      ],
      "text/plain": [
       "          alcohol  malic_acid         ash  alcalinity_of_ash   magnesium  \\\n",
       "count  178.000000  178.000000  178.000000         178.000000  178.000000   \n",
       "mean    13.000618    2.336348    2.366517          19.494944   99.741573   \n",
       "std      0.811827    1.117146    0.274344           3.339564   14.282484   \n",
       "min     11.030000    0.740000    1.360000          10.600000   70.000000   \n",
       "25%     12.362500    1.602500    2.210000          17.200000   88.000000   \n",
       "50%     13.050000    1.865000    2.360000          19.500000   98.000000   \n",
       "75%     13.677500    3.082500    2.557500          21.500000  107.000000   \n",
       "max     14.830000    5.800000    3.230000          30.000000  162.000000   \n",
       "\n",
       "       total_phenols  flavanoids  nonflavanoid_phenols  proanthocyanins  \\\n",
       "count     178.000000  178.000000            178.000000       178.000000   \n",
       "mean        2.295112    2.029270              0.361854         1.590899   \n",
       "std         0.625851    0.998859              0.124453         0.572359   \n",
       "min         0.980000    0.340000              0.130000         0.410000   \n",
       "25%         1.742500    1.205000              0.270000         1.250000   \n",
       "50%         2.355000    2.135000              0.340000         1.555000   \n",
       "75%         2.800000    2.875000              0.437500         1.950000   \n",
       "max         3.880000    5.080000              0.660000         3.580000   \n",
       "\n",
       "       color_intensity         hue  od280/od315_of_diluted_wines      proline  \n",
       "count       178.000000  178.000000                    178.000000   178.000000  \n",
       "mean          5.058090    0.957449                      2.611685   746.893258  \n",
       "std           2.318286    0.228572                      0.709990   314.907474  \n",
       "min           1.280000    0.480000                      1.270000   278.000000  \n",
       "25%           3.220000    0.782500                      1.937500   500.500000  \n",
       "50%           4.690000    0.965000                      2.780000   673.500000  \n",
       "75%           6.200000    1.120000                      3.170000   985.000000  \n",
       "max          13.000000    1.710000                      4.000000  1680.000000  "
      ]
     },
     "execution_count": 9,
     "metadata": {},
     "output_type": "execute_result"
    }
   ],
   "source": [
    "data.data.describe()"
   ]
  },
  {
   "cell_type": "code",
   "execution_count": 10,
   "id": "03dc432b-396a-4c7a-bc4e-4c5d6dca45da",
   "metadata": {},
   "outputs": [
    {
     "data": {
      "text/plain": [
       "((178, 13), (178,))"
      ]
     },
     "execution_count": 10,
     "metadata": {},
     "output_type": "execute_result"
    }
   ],
   "source": [
    "X.shape, y.shape"
   ]
  },
  {
   "cell_type": "code",
   "execution_count": 11,
   "id": "6958099b-93f7-42be-8018-85fe70190e55",
   "metadata": {},
   "outputs": [
    {
     "data": {
      "text/html": [
       "<div>\n",
       "<style scoped>\n",
       "    .dataframe tbody tr th:only-of-type {\n",
       "        vertical-align: middle;\n",
       "    }\n",
       "\n",
       "    .dataframe tbody tr th {\n",
       "        vertical-align: top;\n",
       "    }\n",
       "\n",
       "    .dataframe thead th {\n",
       "        text-align: right;\n",
       "    }\n",
       "</style>\n",
       "<table border=\"1\" class=\"dataframe\">\n",
       "  <thead>\n",
       "    <tr style=\"text-align: right;\">\n",
       "      <th></th>\n",
       "      <th>alcohol</th>\n",
       "      <th>malic_acid</th>\n",
       "      <th>ash</th>\n",
       "      <th>alcalinity_of_ash</th>\n",
       "      <th>magnesium</th>\n",
       "      <th>total_phenols</th>\n",
       "      <th>flavanoids</th>\n",
       "      <th>nonflavanoid_phenols</th>\n",
       "      <th>proanthocyanins</th>\n",
       "      <th>color_intensity</th>\n",
       "      <th>hue</th>\n",
       "      <th>od280/od315_of_diluted_wines</th>\n",
       "      <th>proline</th>\n",
       "    </tr>\n",
       "  </thead>\n",
       "  <tbody>\n",
       "    <tr>\n",
       "      <th>0</th>\n",
       "      <td>14.23</td>\n",
       "      <td>1.71</td>\n",
       "      <td>2.43</td>\n",
       "      <td>15.6</td>\n",
       "      <td>127.0</td>\n",
       "      <td>2.80</td>\n",
       "      <td>3.06</td>\n",
       "      <td>0.28</td>\n",
       "      <td>2.29</td>\n",
       "      <td>5.64</td>\n",
       "      <td>1.04</td>\n",
       "      <td>3.92</td>\n",
       "      <td>1065.0</td>\n",
       "    </tr>\n",
       "    <tr>\n",
       "      <th>1</th>\n",
       "      <td>13.20</td>\n",
       "      <td>1.78</td>\n",
       "      <td>2.14</td>\n",
       "      <td>11.2</td>\n",
       "      <td>100.0</td>\n",
       "      <td>2.65</td>\n",
       "      <td>2.76</td>\n",
       "      <td>0.26</td>\n",
       "      <td>1.28</td>\n",
       "      <td>4.38</td>\n",
       "      <td>1.05</td>\n",
       "      <td>3.40</td>\n",
       "      <td>1050.0</td>\n",
       "    </tr>\n",
       "    <tr>\n",
       "      <th>2</th>\n",
       "      <td>13.16</td>\n",
       "      <td>2.36</td>\n",
       "      <td>2.67</td>\n",
       "      <td>18.6</td>\n",
       "      <td>101.0</td>\n",
       "      <td>2.80</td>\n",
       "      <td>3.24</td>\n",
       "      <td>0.30</td>\n",
       "      <td>2.81</td>\n",
       "      <td>5.68</td>\n",
       "      <td>1.03</td>\n",
       "      <td>3.17</td>\n",
       "      <td>1185.0</td>\n",
       "    </tr>\n",
       "    <tr>\n",
       "      <th>3</th>\n",
       "      <td>14.37</td>\n",
       "      <td>1.95</td>\n",
       "      <td>2.50</td>\n",
       "      <td>16.8</td>\n",
       "      <td>113.0</td>\n",
       "      <td>3.85</td>\n",
       "      <td>3.49</td>\n",
       "      <td>0.24</td>\n",
       "      <td>2.18</td>\n",
       "      <td>7.80</td>\n",
       "      <td>0.86</td>\n",
       "      <td>3.45</td>\n",
       "      <td>1480.0</td>\n",
       "    </tr>\n",
       "    <tr>\n",
       "      <th>4</th>\n",
       "      <td>13.24</td>\n",
       "      <td>2.59</td>\n",
       "      <td>2.87</td>\n",
       "      <td>21.0</td>\n",
       "      <td>118.0</td>\n",
       "      <td>2.80</td>\n",
       "      <td>2.69</td>\n",
       "      <td>0.39</td>\n",
       "      <td>1.82</td>\n",
       "      <td>4.32</td>\n",
       "      <td>1.04</td>\n",
       "      <td>2.93</td>\n",
       "      <td>735.0</td>\n",
       "    </tr>\n",
       "  </tbody>\n",
       "</table>\n",
       "</div>"
      ],
      "text/plain": [
       "   alcohol  malic_acid   ash  alcalinity_of_ash  magnesium  total_phenols  \\\n",
       "0    14.23        1.71  2.43               15.6      127.0           2.80   \n",
       "1    13.20        1.78  2.14               11.2      100.0           2.65   \n",
       "2    13.16        2.36  2.67               18.6      101.0           2.80   \n",
       "3    14.37        1.95  2.50               16.8      113.0           3.85   \n",
       "4    13.24        2.59  2.87               21.0      118.0           2.80   \n",
       "\n",
       "   flavanoids  nonflavanoid_phenols  proanthocyanins  color_intensity   hue  \\\n",
       "0        3.06                  0.28             2.29             5.64  1.04   \n",
       "1        2.76                  0.26             1.28             4.38  1.05   \n",
       "2        3.24                  0.30             2.81             5.68  1.03   \n",
       "3        3.49                  0.24             2.18             7.80  0.86   \n",
       "4        2.69                  0.39             1.82             4.32  1.04   \n",
       "\n",
       "   od280/od315_of_diluted_wines  proline  \n",
       "0                          3.92   1065.0  \n",
       "1                          3.40   1050.0  \n",
       "2                          3.17   1185.0  \n",
       "3                          3.45   1480.0  \n",
       "4                          2.93    735.0  "
      ]
     },
     "execution_count": 11,
     "metadata": {},
     "output_type": "execute_result"
    }
   ],
   "source": [
    "X[:5]"
   ]
  },
  {
   "cell_type": "code",
   "execution_count": 12,
   "id": "550c7ae6-2092-4206-b2e6-dcfaaeae5f23",
   "metadata": {},
   "outputs": [
    {
     "data": {
      "text/plain": [
       "0      0\n",
       "1      0\n",
       "2      0\n",
       "3      0\n",
       "4      0\n",
       "      ..\n",
       "173    2\n",
       "174    2\n",
       "175    2\n",
       "176    2\n",
       "177    2\n",
       "Name: target, Length: 178, dtype: int32"
      ]
     },
     "execution_count": 12,
     "metadata": {},
     "output_type": "execute_result"
    }
   ],
   "source": [
    "y"
   ]
  },
  {
   "cell_type": "markdown",
   "id": "d0974ea6-a91a-4cb2-82a3-06375f76b18e",
   "metadata": {},
   "source": [
    "### Data Ranges\n",
    "It is evident that the data ranges can be very large, and thus normalisation should be applied."
   ]
  },
  {
   "cell_type": "code",
   "execution_count": 13,
   "id": "7f3d127a-d74c-41f7-8024-8fd6ac037a37",
   "metadata": {},
   "outputs": [
    {
     "data": {
      "text/plain": [
       "(alcohol                          11.03\n",
       " malic_acid                        0.74\n",
       " ash                               1.36\n",
       " alcalinity_of_ash                10.60\n",
       " magnesium                        70.00\n",
       " total_phenols                     0.98\n",
       " flavanoids                        0.34\n",
       " nonflavanoid_phenols              0.13\n",
       " proanthocyanins                   0.41\n",
       " color_intensity                   1.28\n",
       " hue                               0.48\n",
       " od280/od315_of_diluted_wines      1.27\n",
       " proline                         278.00\n",
       " dtype: float64,\n",
       " alcohol                           14.83\n",
       " malic_acid                         5.80\n",
       " ash                                3.23\n",
       " alcalinity_of_ash                 30.00\n",
       " magnesium                        162.00\n",
       " total_phenols                      3.88\n",
       " flavanoids                         5.08\n",
       " nonflavanoid_phenols               0.66\n",
       " proanthocyanins                    3.58\n",
       " color_intensity                   13.00\n",
       " hue                                1.71\n",
       " od280/od315_of_diluted_wines       4.00\n",
       " proline                         1680.00\n",
       " dtype: float64)"
      ]
     },
     "execution_count": 13,
     "metadata": {},
     "output_type": "execute_result"
    }
   ],
   "source": [
    "X.min(),X.max()"
   ]
  },
  {
   "cell_type": "markdown",
   "id": "08bd90e1-f72d-4097-ac14-26eda55a9058",
   "metadata": {},
   "source": [
    "### Data Balance\n",
    "Number of samples per class: 59, 71, 48, slightly unbalanced"
   ]
  },
  {
   "cell_type": "code",
   "execution_count": 14,
   "id": "bd82abe8-6268-4844-ac19-75d1d5e10204",
   "metadata": {},
   "outputs": [
    {
     "name": "stdout",
     "output_type": "stream",
     "text": [
      "Number of examples for class_0: 59 \n",
      "Number of examples for class_1: 71 \n",
      "Number of examples for class_2: 48 \n",
      "\n"
     ]
    }
   ],
   "source": [
    "num_class_0, num_class_1, num_class_2 = 0, 0, 0\n",
    "for i in range(len(y)):\n",
    "    if y[i] == 0:\n",
    "        num_class_0 += 1\n",
    "    elif y[i] == 1:\n",
    "        num_class_1 += 1\n",
    "    elif y[i] == 2:\n",
    "        num_class_2 += 1\n",
    "print(f\"Number of examples for class_0: {num_class_0} \\nNumber of examples for class_1: {num_class_1} \\nNumber of examples for class_2: {num_class_2} \\n\")"
   ]
  },
  {
   "cell_type": "code",
   "execution_count": 15,
   "id": "6db71351-62b5-44d7-a5bb-3344bbc9d291",
   "metadata": {},
   "outputs": [
    {
     "data": {
      "image/png": "[encoded data removed]",
      "text/plain": [
       "<Figure size 432x288 with 1 Axes>"
      ]
     },
     "metadata": {},
     "output_type": "display_data"
    }
   ],
   "source": [
    "class_list = [num_class_0, num_class_1, num_class_2]\n",
    "labels = 'class_0', 'class_1', 'class_2'\n",
    "plt.pie(class_list,labels=labels, autopct='%1.1f%%',startangle=90)\n",
    "plt.show()"
   ]
  },
  {
   "cell_type": "markdown",
   "id": "228570ed-ac0a-4453-9faf-a4a67f23dec2",
   "metadata": {},
   "source": [
    "## Data Preprocessing"
   ]
  },
  {
   "cell_type": "markdown",
   "id": "e6656fbb-b1e8-48eb-ba57-7aeebdc96f77",
   "metadata": {},
   "source": [
    "### Data Splitting"
   ]
  },
  {
   "cell_type": "code",
   "execution_count": 16,
   "id": "4dea96e5-344f-4a93-a9bd-fee35381cea6",
   "metadata": {},
   "outputs": [],
   "source": [
    "X_train, X_test, y_train, y_test = train_test_split(\n",
    "    X, y, test_size=0.2, shuffle=True, random_state=42)"
   ]
  },
  {
   "cell_type": "markdown",
   "id": "0d0cd2dc-828f-4431-9cf0-d009eca20c7b",
   "metadata": {},
   "source": [
    "### Normailisation"
   ]
  },
  {
   "cell_type": "code",
   "execution_count": 17,
   "id": "980f336b-a499-498f-a098-00ddb653abd1",
   "metadata": {},
   "outputs": [
    {
     "data": {
      "text/plain": [
       "array([[ 0.98884758, -0.12828947,  1.03030303, ..., -1.17037037,\n",
       "        -0.61163227,  0.        ],\n",
       "       [-0.35687732,  2.39144737,  0.84848485, ..., -0.42962963,\n",
       "        -0.81425891, -0.33701336],\n",
       "       [-0.47583643, -0.52960526, -0.78787879, ...,  0.22222222,\n",
       "        -0.00375235,  0.        ],\n",
       "       ...,\n",
       "       [ 1.01858736, -0.00328947,  0.06060606, ...,  0.6962963 ,\n",
       "         0.16885553,  2.0615921 ],\n",
       "       [-0.23791822, -0.22697368, -0.3030303 , ..., -0.01481481,\n",
       "        -0.53658537, -0.38349797],\n",
       "       [-0.49814126,  0.37828947,  0.3030303 , ..., -0.48888889,\n",
       "         0.45403377, -0.51597908]])"
      ]
     },
     "execution_count": 17,
     "metadata": {},
     "output_type": "execute_result"
    }
   ],
   "source": [
    "X_train = preprocessing.robust_scale(X_train)\n",
    "X_train"
   ]
  },
  {
   "cell_type": "code",
   "execution_count": 18,
   "id": "e7263f78-d5a6-4b3f-b554-866968308341",
   "metadata": {},
   "outputs": [
    {
     "data": {
      "text/plain": [
       "(-3.030303030303029, 3.4133333333333336)"
      ]
     },
     "execution_count": 18,
     "metadata": {},
     "output_type": "execute_result"
    }
   ],
   "source": [
    "X_train.min(), X_train.max()"
   ]
  },
  {
   "cell_type": "code",
   "execution_count": 19,
   "id": "e0341037-ebe4-4bd3-8c29-3ed4d2ac5e46",
   "metadata": {},
   "outputs": [],
   "source": [
    "# X_test = X_test.to_numpy()"
   ]
  },
  {
   "cell_type": "markdown",
   "id": "012597e3-a9d6-47f1-a26d-db2e82822276",
   "metadata": {},
   "source": [
    "### Label Encoding"
   ]
  },
  {
   "cell_type": "code",
   "execution_count": 20,
   "id": "3e5497f6-bfdb-4065-8ef5-7c141cf77400",
   "metadata": {},
   "outputs": [
    {
     "name": "stdout",
     "output_type": "stream",
     "text": [
      "[[0. 0. 1.]\n",
      " [0. 0. 1.]\n",
      " [0. 1. 0.]\n",
      " [0. 0. 1.]\n",
      " [1. 0. 0.]]\n"
     ]
    }
   ],
   "source": [
    "ohe = OneHotEncoder()\n",
    "y_train = ohe.fit_transform(y_train.to_numpy().reshape(-1, 1)).toarray()\n",
    "print(y_train[:5])"
   ]
  },
  {
   "cell_type": "code",
   "execution_count": 21,
   "id": "9c8fa00c-b66c-469b-93fe-26d08cf1d6be",
   "metadata": {},
   "outputs": [],
   "source": [
    "y_test = ohe.fit_transform(y_test.to_numpy().reshape(-1, 1)).toarray()"
   ]
  },
  {
   "cell_type": "code",
   "execution_count": 22,
   "id": "ac8672bd-e7ea-48ae-b052-f4f0066e7e22",
   "metadata": {},
   "outputs": [
    {
     "data": {
      "text/plain": [
       "array([[1., 0., 0.],\n",
       "       [1., 0., 0.],\n",
       "       [0., 0., 1.],\n",
       "       [1., 0., 0.],\n",
       "       [0., 1., 0.]])"
      ]
     },
     "execution_count": 22,
     "metadata": {},
     "output_type": "execute_result"
    }
   ],
   "source": [
    "y_test[:5]"
   ]
  },
  {
   "cell_type": "markdown",
   "id": "05222b47-f2e2-40e3-9b11-055450e7a8ab",
   "metadata": {},
   "source": [
    "# Model"
   ]
  },
  {
   "cell_type": "markdown",
   "id": "e6aa2841-93c7-4f5e-95e7-4042ebba1eff",
   "metadata": {},
   "source": [
    "## Model Architecture"
   ]
  },
  {
   "cell_type": "code",
   "execution_count": 23,
   "id": "0cd8f255-bfef-41bf-a979-3cd095ef5e05",
   "metadata": {},
   "outputs": [],
   "source": [
    "class dnn(nn.Module):\n",
    "    \n",
    "    def __init__(self, input_dim, hidden_dim, out_dim):\n",
    "        super().__init__()\n",
    "        \n",
    "        self.layers = nn.Sequential(\n",
    "        nn.Linear(input_dim, hidden_dim),\n",
    "        nn.ReLU(),\n",
    "        nn.Linear(hidden_dim, out_dim),\n",
    "        nn.Softmax(dim=1)\n",
    "        )\n",
    "    \n",
    "    def forward(self, x):\n",
    "        return self.layers(x)"
   ]
  },
  {
   "cell_type": "markdown",
   "id": "294085b9-36e6-41d0-b05d-ca1338f7f460",
   "metadata": {},
   "source": [
    "## Hyperparameters"
   ]
  },
  {
   "cell_type": "code",
   "execution_count": 24,
   "id": "d67122e9-65b4-436f-8f8b-35bb76bbdfdc",
   "metadata": {},
   "outputs": [],
   "source": [
    "input_dim = len(X_train[0])\n",
    "hidden_dim = 5\n",
    "out_dim = 3\n",
    "learning_rate = 0.05\n",
    "epochs = 1200"
   ]
  },
  {
   "cell_type": "code",
   "execution_count": 25,
   "id": "12d3deb4-1a76-4a7e-ab50-790869bf62aa",
   "metadata": {},
   "outputs": [
    {
     "data": {
      "text/plain": [
       "dnn(\n",
       "  (layers): Sequential(\n",
       "    (0): Linear(in_features=13, out_features=5, bias=True)\n",
       "    (1): ReLU()\n",
       "    (2): Linear(in_features=5, out_features=3, bias=True)\n",
       "    (3): Softmax(dim=1)\n",
       "  )\n",
       ")"
      ]
     },
     "execution_count": 25,
     "metadata": {},
     "output_type": "execute_result"
    }
   ],
   "source": [
    "model = dnn(input_dim, hidden_dim, out_dim)\n",
    "model"
   ]
  },
  {
   "cell_type": "markdown",
   "id": "3b4889a4-d0dd-46f6-a124-3e8f1b6b943a",
   "metadata": {},
   "source": [
    "## Parameters"
   ]
  },
  {
   "cell_type": "code",
   "execution_count": 26,
   "id": "2a8796c2-58fe-4c7e-bbf3-a49fb1544980",
   "metadata": {},
   "outputs": [
    {
     "data": {
      "text/plain": [
       "OrderedDict([('layers.0.weight',\n",
       "              tensor([[-0.0785, -0.2279,  0.1603, -0.1769, -0.2646, -0.0053,  0.2265, -0.0113,\n",
       "                        0.1522,  0.1148,  0.0663,  0.0088, -0.0454],\n",
       "                      [-0.0790,  0.0905,  0.2006,  0.2363,  0.0595,  0.0928,  0.0843, -0.1494,\n",
       "                        0.1463, -0.0778, -0.2262, -0.1810, -0.2111],\n",
       "                      [ 0.0626,  0.2565,  0.2135,  0.1150,  0.1947,  0.2769,  0.2064,  0.2165,\n",
       "                        0.0344, -0.2247,  0.2428, -0.1350, -0.1048],\n",
       "                      [-0.2476, -0.0736,  0.2242, -0.1527,  0.1252,  0.1166, -0.2566, -0.1710,\n",
       "                        0.2733, -0.1993, -0.0536, -0.2170,  0.1291],\n",
       "                      [-0.0594,  0.2185,  0.1233,  0.2067, -0.2613, -0.1862,  0.0509,  0.0762,\n",
       "                       -0.2285,  0.1139,  0.1738, -0.1332, -0.2677]])),\n",
       "             ('layers.0.bias',\n",
       "              tensor([-0.0468,  0.0618, -0.1273,  0.2249,  0.0600])),\n",
       "             ('layers.2.weight',\n",
       "              tensor([[ 4.2328e-01,  5.4210e-05,  2.5306e-02,  4.0787e-01, -1.0507e-01],\n",
       "                      [ 1.0014e-01,  1.6273e-01, -3.4002e-01, -1.8749e-01,  3.2346e-01],\n",
       "                      [-1.0285e-01,  1.9626e-01,  2.4873e-01, -3.9549e-01, -7.8991e-02]])),\n",
       "             ('layers.2.bias', tensor([-0.1276, -0.3599,  0.3071]))])"
      ]
     },
     "execution_count": 26,
     "metadata": {},
     "output_type": "execute_result"
    }
   ],
   "source": [
    "model.state_dict()"
   ]
  },
  {
   "cell_type": "markdown",
   "id": "205dfe2d-fad6-4a4a-a438-bd1d987760cf",
   "metadata": {},
   "source": [
    "## Loss function and optimizer"
   ]
  },
  {
   "cell_type": "code",
   "execution_count": 27,
   "id": "d63cd300-e4aa-4d42-a2be-34bae03f3f58",
   "metadata": {},
   "outputs": [],
   "source": [
    "criterion = nn.CrossEntropyLoss()\n",
    "optimizer = torch.optim.SGD(model.parameters(), lr=learning_rate)"
   ]
  },
  {
   "cell_type": "markdown",
   "id": "0fe49465-7864-474c-b51e-e9fea38cd12e",
   "metadata": {},
   "source": [
    "# Trainer"
   ]
  },
  {
   "cell_type": "markdown",
   "id": "6da87c4f-4d25-4bc7-bfe1-8a7073cdbb62",
   "metadata": {},
   "source": [
    "## Normalize the test set"
   ]
  },
  {
   "cell_type": "code",
   "execution_count": 28,
   "id": "ac4799be-9e67-4bb3-84e4-dec66bbfc2ba",
   "metadata": {},
   "outputs": [],
   "source": [
    "X_test = preprocessing.robust_scale(X_test)"
   ]
  },
  {
   "cell_type": "markdown",
   "id": "144c61aa-f81d-447d-8227-2f85f9281592",
   "metadata": {},
   "source": [
    "## Turn data into Tensor dtype"
   ]
  },
  {
   "cell_type": "code",
   "execution_count": 29,
   "id": "e1376514-6a1f-46a9-841d-575cc8055925",
   "metadata": {},
   "outputs": [],
   "source": [
    "X_train = torch.tensor(X_train, dtype=torch.float32)\n",
    "X_test = torch.tensor(X_test, dtype=torch.float32)\n",
    "y_train = torch.tensor(y_train, dtype=torch.float32)\n",
    "y_test = torch.tensor(y_test, dtype=torch.float32)"
   ]
  },
  {
   "cell_type": "code",
   "execution_count": 30,
   "id": "5c9b5422-8ce0-4b69-9c9c-8803e0f94727",
   "metadata": {},
   "outputs": [],
   "source": [
    "epoch_list = []\n",
    "training_loss_list = []\n",
    "test_loss_list = []\n",
    "test_acc_list = []"
   ]
  },
  {
   "cell_type": "code",
   "execution_count": 31,
   "id": "ad487613-459e-42f0-ad94-f5a6e3aecc87",
   "metadata": {},
   "outputs": [
    {
     "data": {
      "text/plain": [
       "tensor([[0., 0., 1.],\n",
       "        [0., 0., 1.],\n",
       "        [0., 1., 0.],\n",
       "        [0., 0., 1.],\n",
       "        [1., 0., 0.]])"
      ]
     },
     "execution_count": 31,
     "metadata": {},
     "output_type": "execute_result"
    }
   ],
   "source": [
    "y_train.squeeze()[:5]"
   ]
  },
  {
   "cell_type": "code",
   "execution_count": 32,
   "id": "21b15cb7-9e4b-48a6-a913-d64017403788",
   "metadata": {},
   "outputs": [],
   "source": [
    "# # Transform softmax output to one hot vector\n",
    "# def preds_encoding(predictions):\n",
    "#     out = []\n",
    "\n",
    "#     for i in range(len(predictions)):\n",
    "#         out.append(torch.argmax(predictions[i]).item())\n",
    "\n",
    "#     out = ohe.fit_transform(np.array(out).reshape(-1, 1)).toarray()\n",
    "    \n",
    "#     return out"
   ]
  },
  {
   "cell_type": "markdown",
   "id": "80e5ed81-2644-46ba-8a97-11060f40f5c5",
   "metadata": {},
   "source": [
    "## Training"
   ]
  },
  {
   "cell_type": "code",
   "execution_count": 33,
   "id": "997a923a-960d-4a04-a4ef-f595882bb5a2",
   "metadata": {},
   "outputs": [
    {
     "name": "stdout",
     "output_type": "stream",
     "text": [
      "Epoch: 0; Training loss: 1.0992521047592163; Test loss: 1.10009765625; Test Accuracy: 0.3333333333333333\n",
      "Epoch: 10; Training loss: 1.0873967409133911; Test loss: 1.0870031118392944; Test Accuracy: 0.4444444444444444\n",
      "Epoch: 20; Training loss: 1.075305700302124; Test loss: 1.0732176303863525; Test Accuracy: 0.5277777777777778\n",
      "Epoch: 30; Training loss: 1.0630707740783691; Test loss: 1.059016466140747; Test Accuracy: 0.5555555555555556\n",
      "Epoch: 40; Training loss: 1.0504271984100342; Test loss: 1.0443164110183716; Test Accuracy: 0.5555555555555556\n",
      "Epoch: 50; Training loss: 1.037772297859192; Test loss: 1.0295662879943848; Test Accuracy: 0.5555555555555556\n",
      "Epoch: 60; Training loss: 1.0249842405319214; Test loss: 1.0150809288024902; Test Accuracy: 0.5555555555555556\n",
      "Epoch: 70; Training loss: 1.0125492811203003; Test loss: 1.0010238885879517; Test Accuracy: 0.5833333333333334\n",
      "Epoch: 80; Training loss: 1.0006484985351562; Test loss: 0.9875518083572388; Test Accuracy: 0.5833333333333334\n",
      "Epoch: 90; Training loss: 0.9893655776977539; Test loss: 0.9748221635818481; Test Accuracy: 0.5833333333333334\n",
      "Epoch: 100; Training loss: 0.9786766171455383; Test loss: 0.96287602186203; Test Accuracy: 0.6111111111111112\n",
      "Epoch: 110; Training loss: 0.9684587121009827; Test loss: 0.9514437913894653; Test Accuracy: 0.6111111111111112\n",
      "Epoch: 120; Training loss: 0.9585747718811035; Test loss: 0.9404911398887634; Test Accuracy: 0.6388888888888888\n",
      "Epoch: 130; Training loss: 0.9488499760627747; Test loss: 0.9295641779899597; Test Accuracy: 0.6944444444444444\n",
      "Epoch: 140; Training loss: 0.9390992522239685; Test loss: 0.9185386300086975; Test Accuracy: 0.75\n",
      "Epoch: 150; Training loss: 0.92901211977005; Test loss: 0.9072062969207764; Test Accuracy: 0.7777777777777778\n",
      "Epoch: 160; Training loss: 0.9183783531188965; Test loss: 0.8953647613525391; Test Accuracy: 0.8888888888888888\n",
      "Epoch: 170; Training loss: 0.9071028828620911; Test loss: 0.8828597664833069; Test Accuracy: 0.9166666666666666\n",
      "Epoch: 180; Training loss: 0.8950309157371521; Test loss: 0.8695719242095947; Test Accuracy: 0.9166666666666666\n",
      "Epoch: 190; Training loss: 0.8819798231124878; Test loss: 0.8553555607795715; Test Accuracy: 0.9166666666666666\n",
      "Epoch: 200; Training loss: 0.8679452538490295; Test loss: 0.8400885462760925; Test Accuracy: 0.9166666666666666\n",
      "Epoch: 210; Training loss: 0.8528273701667786; Test loss: 0.8238314390182495; Test Accuracy: 0.8888888888888888\n",
      "Epoch: 220; Training loss: 0.8368239998817444; Test loss: 0.8068613409996033; Test Accuracy: 0.9166666666666666\n",
      "Epoch: 230; Training loss: 0.8202729821205139; Test loss: 0.78952556848526; Test Accuracy: 0.9166666666666666\n",
      "Epoch: 240; Training loss: 0.8034019470214844; Test loss: 0.772090494632721; Test Accuracy: 0.9166666666666666\n",
      "Epoch: 250; Training loss: 0.7866162061691284; Test loss: 0.7550262808799744; Test Accuracy: 0.9166666666666666\n",
      "Epoch: 260; Training loss: 0.7702215313911438; Test loss: 0.7387122511863708; Test Accuracy: 0.9166666666666666\n",
      "Epoch: 270; Training loss: 0.754688024520874; Test loss: 0.7234810590744019; Test Accuracy: 0.9166666666666666\n",
      "Epoch: 280; Training loss: 0.7401444911956787; Test loss: 0.7095417380332947; Test Accuracy: 0.9444444444444444\n",
      "Epoch: 290; Training loss: 0.7268004417419434; Test loss: 0.6970890164375305; Test Accuracy: 0.9722222222222222\n",
      "Epoch: 300; Training loss: 0.7143656611442566; Test loss: 0.6860527992248535; Test Accuracy: 0.9722222222222222\n",
      "Epoch: 310; Training loss: 0.7031311392784119; Test loss: 0.6763640642166138; Test Accuracy: 0.9722222222222222\n",
      "Epoch: 320; Training loss: 0.6930453181266785; Test loss: 0.6678032279014587; Test Accuracy: 0.9722222222222222\n",
      "Epoch: 330; Training loss: 0.6839471459388733; Test loss: 0.6604205369949341; Test Accuracy: 0.9722222222222222\n",
      "Epoch: 340; Training loss: 0.6755595803260803; Test loss: 0.6539533734321594; Test Accuracy: 0.9722222222222222\n",
      "Epoch: 350; Training loss: 0.6680153608322144; Test loss: 0.6484043598175049; Test Accuracy: 0.9722222222222222\n",
      "Epoch: 360; Training loss: 0.6612191796302795; Test loss: 0.6435653567314148; Test Accuracy: 0.9722222222222222\n",
      "Epoch: 370; Training loss: 0.655083179473877; Test loss: 0.639320969581604; Test Accuracy: 0.9722222222222222\n",
      "Epoch: 380; Training loss: 0.6495146155357361; Test loss: 0.6355713605880737; Test Accuracy: 0.9722222222222222\n",
      "Epoch: 390; Training loss: 0.6443990468978882; Test loss: 0.6322386860847473; Test Accuracy: 0.9722222222222222\n",
      "Epoch: 400; Training loss: 0.6396476030349731; Test loss: 0.6292614340782166; Test Accuracy: 0.9722222222222222\n",
      "Epoch: 410; Training loss: 0.6352916359901428; Test loss: 0.6265791058540344; Test Accuracy: 0.9444444444444444\n",
      "Epoch: 420; Training loss: 0.6312898397445679; Test loss: 0.6241442561149597; Test Accuracy: 0.9444444444444444\n",
      "Epoch: 430; Training loss: 0.6276051998138428; Test loss: 0.6219171285629272; Test Accuracy: 0.9444444444444444\n",
      "Epoch: 440; Training loss: 0.6242019534111023; Test loss: 0.6198689937591553; Test Accuracy: 0.9444444444444444\n",
      "Epoch: 450; Training loss: 0.6210488080978394; Test loss: 0.6179837584495544; Test Accuracy: 0.9444444444444444\n",
      "Epoch: 460; Training loss: 0.6181176900863647; Test loss: 0.6162354946136475; Test Accuracy: 0.9444444444444444\n",
      "Epoch: 470; Training loss: 0.6153802871704102; Test loss: 0.6146047115325928; Test Accuracy: 0.9444444444444444\n",
      "Epoch: 480; Training loss: 0.6128170490264893; Test loss: 0.6130765676498413; Test Accuracy: 0.9444444444444444\n",
      "Epoch: 490; Training loss: 0.6104146838188171; Test loss: 0.6116356253623962; Test Accuracy: 0.9444444444444444\n",
      "Epoch: 500; Training loss: 0.608174741268158; Test loss: 0.6102877855300903; Test Accuracy: 0.9444444444444444\n",
      "Epoch: 510; Training loss: 0.6060907244682312; Test loss: 0.6090201139450073; Test Accuracy: 0.9444444444444444\n",
      "Epoch: 520; Training loss: 0.6041269302368164; Test loss: 0.6078135967254639; Test Accuracy: 0.9444444444444444\n",
      "Epoch: 530; Training loss: 0.6022748947143555; Test loss: 0.6066607236862183; Test Accuracy: 0.9444444444444444\n",
      "Epoch: 540; Training loss: 0.6005285382270813; Test loss: 0.6055538654327393; Test Accuracy: 0.9444444444444444\n",
      "Epoch: 550; Training loss: 0.5988839268684387; Test loss: 0.6044861674308777; Test Accuracy: 0.9444444444444444\n",
      "Epoch: 560; Training loss: 0.5973368287086487; Test loss: 0.6034514904022217; Test Accuracy: 0.9444444444444444\n",
      "Epoch: 570; Training loss: 0.5958830118179321; Test loss: 0.6024451851844788; Test Accuracy: 0.9444444444444444\n",
      "Epoch: 580; Training loss: 0.594517707824707; Test loss: 0.6014622449874878; Test Accuracy: 0.9444444444444444\n",
      "Epoch: 590; Training loss: 0.5932325720787048; Test loss: 0.600493848323822; Test Accuracy: 0.9722222222222222\n",
      "Epoch: 600; Training loss: 0.5920262336730957; Test loss: 0.5995484590530396; Test Accuracy: 0.9722222222222222\n",
      "Epoch: 610; Training loss: 0.5908931493759155; Test loss: 0.5986282825469971; Test Accuracy: 0.9722222222222222\n",
      "Epoch: 620; Training loss: 0.5898275971412659; Test loss: 0.5977261662483215; Test Accuracy: 0.9722222222222222\n",
      "Epoch: 630; Training loss: 0.5888238549232483; Test loss: 0.5968427062034607; Test Accuracy: 0.9722222222222222\n",
      "Epoch: 640; Training loss: 0.5878772139549255; Test loss: 0.5959780812263489; Test Accuracy: 0.9722222222222222\n",
      "Epoch: 650; Training loss: 0.5869824290275574; Test loss: 0.5951330661773682; Test Accuracy: 0.9722222222222222\n",
      "Epoch: 660; Training loss: 0.5861350297927856; Test loss: 0.594308078289032; Test Accuracy: 0.9722222222222222\n",
      "Epoch: 670; Training loss: 0.5853316783905029; Test loss: 0.5935032963752747; Test Accuracy: 0.9722222222222222\n",
      "Epoch: 680; Training loss: 0.5845686793327332; Test loss: 0.5927188992500305; Test Accuracy: 0.9722222222222222\n",
      "Epoch: 690; Training loss: 0.583842933177948; Test loss: 0.5919550061225891; Test Accuracy: 0.9722222222222222\n",
      "Epoch: 700; Training loss: 0.5831540822982788; Test loss: 0.5912206768989563; Test Accuracy: 0.9722222222222222\n",
      "Epoch: 710; Training loss: 0.5824988484382629; Test loss: 0.5905115604400635; Test Accuracy: 0.9722222222222222\n",
      "Epoch: 720; Training loss: 0.5818755626678467; Test loss: 0.5898228883743286; Test Accuracy: 0.9722222222222222\n",
      "Epoch: 730; Training loss: 0.5812802314758301; Test loss: 0.5891538262367249; Test Accuracy: 0.9722222222222222\n",
      "Epoch: 740; Training loss: 0.5807099938392639; Test loss: 0.5885038375854492; Test Accuracy: 1.0\n",
      "Epoch: 750; Training loss: 0.5801631212234497; Test loss: 0.5878725051879883; Test Accuracy: 1.0\n",
      "Epoch: 760; Training loss: 0.5796381235122681; Test loss: 0.5872592926025391; Test Accuracy: 1.0\n",
      "Epoch: 770; Training loss: 0.5791338086128235; Test loss: 0.5866638422012329; Test Accuracy: 1.0\n",
      "Epoch: 780; Training loss: 0.5786486268043518; Test loss: 0.5860855579376221; Test Accuracy: 1.0\n",
      "Epoch: 790; Training loss: 0.5781816244125366; Test loss: 0.5855240225791931; Test Accuracy: 1.0\n",
      "Epoch: 800; Training loss: 0.577731728553772; Test loss: 0.5849785208702087; Test Accuracy: 1.0\n",
      "Epoch: 810; Training loss: 0.5772997140884399; Test loss: 0.5844507217407227; Test Accuracy: 1.0\n",
      "Epoch: 820; Training loss: 0.5768844485282898; Test loss: 0.5839411616325378; Test Accuracy: 1.0\n",
      "Epoch: 830; Training loss: 0.5764833688735962; Test loss: 0.5834459662437439; Test Accuracy: 1.0\n",
      "Epoch: 840; Training loss: 0.5760956406593323; Test loss: 0.5829648375511169; Test Accuracy: 1.0\n",
      "Epoch: 850; Training loss: 0.5757205486297607; Test loss: 0.5824974179267883; Test Accuracy: 1.0\n",
      "Epoch: 860; Training loss: 0.5753574967384338; Test loss: 0.582042932510376; Test Accuracy: 1.0\n",
      "Epoch: 870; Training loss: 0.5750059485435486; Test loss: 0.5816012620925903; Test Accuracy: 1.0\n",
      "Epoch: 880; Training loss: 0.5746654272079468; Test loss: 0.5811727046966553; Test Accuracy: 1.0\n",
      "Epoch: 890; Training loss: 0.5743350982666016; Test loss: 0.5807559490203857; Test Accuracy: 1.0\n",
      "Epoch: 900; Training loss: 0.5740146636962891; Test loss: 0.5803503394126892; Test Accuracy: 1.0\n",
      "Epoch: 910; Training loss: 0.5737034678459167; Test loss: 0.5799558162689209; Test Accuracy: 1.0\n",
      "Epoch: 920; Training loss: 0.573401153087616; Test loss: 0.5795716047286987; Test Accuracy: 1.0\n",
      "Epoch: 930; Training loss: 0.5731073021888733; Test loss: 0.5791976451873779; Test Accuracy: 1.0\n",
      "Epoch: 940; Training loss: 0.5728216171264648; Test loss: 0.5788334608078003; Test Accuracy: 1.0\n",
      "Epoch: 950; Training loss: 0.5725436210632324; Test loss: 0.5784786939620972; Test Accuracy: 1.0\n",
      "Epoch: 960; Training loss: 0.5722730159759521; Test loss: 0.5781331062316895; Test Accuracy: 1.0\n",
      "Epoch: 970; Training loss: 0.5720096230506897; Test loss: 0.5777962803840637; Test Accuracy: 1.0\n",
      "Epoch: 980; Training loss: 0.5717529654502869; Test loss: 0.5774680376052856; Test Accuracy: 1.0\n",
      "Epoch: 990; Training loss: 0.5715028047561646; Test loss: 0.5771484375; Test Accuracy: 1.0\n",
      "Epoch: 1000; Training loss: 0.5712589025497437; Test loss: 0.5768372416496277; Test Accuracy: 1.0\n",
      "Epoch: 1010; Training loss: 0.5710210800170898; Test loss: 0.5765334963798523; Test Accuracy: 1.0\n",
      "Epoch: 1020; Training loss: 0.5707889795303345; Test loss: 0.5762372016906738; Test Accuracy: 1.0\n",
      "Epoch: 1030; Training loss: 0.5705623626708984; Test loss: 0.5759486556053162; Test Accuracy: 1.0\n",
      "Epoch: 1040; Training loss: 0.5703416466712952; Test loss: 0.5756718516349792; Test Accuracy: 1.0\n",
      "Epoch: 1050; Training loss: 0.5701261758804321; Test loss: 0.5754011273384094; Test Accuracy: 1.0\n",
      "Epoch: 1060; Training loss: 0.5699154734611511; Test loss: 0.5751363635063171; Test Accuracy: 1.0\n",
      "Epoch: 1070; Training loss: 0.5697095394134521; Test loss: 0.5748773217201233; Test Accuracy: 1.0\n",
      "Epoch: 1080; Training loss: 0.5695083141326904; Test loss: 0.5746238231658936; Test Accuracy: 1.0\n",
      "Epoch: 1090; Training loss: 0.5693113207817078; Test loss: 0.5743758678436279; Test Accuracy: 1.0\n",
      "Epoch: 1100; Training loss: 0.5691187977790833; Test loss: 0.5741326808929443; Test Accuracy: 1.0\n",
      "Epoch: 1110; Training loss: 0.5689302682876587; Test loss: 0.5738945603370667; Test Accuracy: 1.0\n",
      "Epoch: 1120; Training loss: 0.5687457323074341; Test loss: 0.5736615657806396; Test Accuracy: 1.0\n",
      "Epoch: 1130; Training loss: 0.5685650706291199; Test loss: 0.573433518409729; Test Accuracy: 1.0\n",
      "Epoch: 1140; Training loss: 0.5683881640434265; Test loss: 0.5732102394104004; Test Accuracy: 1.0\n",
      "Epoch: 1150; Training loss: 0.5682147145271301; Test loss: 0.5729916095733643; Test Accuracy: 1.0\n",
      "Epoch: 1160; Training loss: 0.568044900894165; Test loss: 0.5727779269218445; Test Accuracy: 1.0\n",
      "Epoch: 1170; Training loss: 0.5678784251213074; Test loss: 0.5725688338279724; Test Accuracy: 1.0\n",
      "Epoch: 1180; Training loss: 0.5677151679992676; Test loss: 0.5723639130592346; Test Accuracy: 1.0\n",
      "Epoch: 1190; Training loss: 0.5675550103187561; Test loss: 0.5721632242202759; Test Accuracy: 1.0\n",
      "Epoch: 1200; Training loss: 0.5673980116844177; Test loss: 0.5719664096832275; Test Accuracy: 1.0\n"
     ]
    }
   ],
   "source": [
    "for epoch in range(epochs+1):\n",
    "    \n",
    "    # Set model as train mode\n",
    "    model.train()\n",
    "    \n",
    "    # Foward propagation\n",
    "    preds_train = model(X_train)\n",
    "    \n",
    "    # Compute loss\n",
    "    training_loss = criterion(preds_train.squeeze(), y_train.squeeze())\n",
    "    \n",
    "    # Clear grads\n",
    "    optimizer.zero_grad()\n",
    "    \n",
    "    # Compute grads\n",
    "    training_loss.backward()\n",
    "    \n",
    "    # Update parameters\n",
    "    optimizer.step()\n",
    "    \n",
    "    # Evaluate test loss and test accuracy\n",
    "    model.eval()\n",
    "    with torch.inference_mode():\n",
    "        preds_test = model(X_test)\n",
    "        test_loss = criterion(preds_test.squeeze(), y_test.squeeze())\n",
    "        preds_test_ = torch.argmax(preds_test, dim=1)\n",
    "        y_test_ = torch.argmax(y_test, dim=1)\n",
    "        acc = accuracy_score(y_test_, preds_test_)\n",
    "    # Save logs\n",
    "    epoch_list.append(epoch)\n",
    "    training_loss_list.append(training_loss.item())\n",
    "    test_loss_list.append(test_loss.item())\n",
    "    test_acc_list.append(acc)\n",
    "    # Print logs\n",
    "    if epoch % 10 == 0:\n",
    "        print(f\"Epoch: {epoch}; Training loss: {training_loss.item()}; Test loss: {test_loss.item()}; Test Accuracy: {acc}\")"
   ]
  },
  {
   "cell_type": "markdown",
   "id": "5e7a3547-0ef3-468e-b5f7-7a87c9d389d0",
   "metadata": {},
   "source": [
    "## Prediction"
   ]
  },
  {
   "cell_type": "code",
   "execution_count": 42,
   "id": "811aadb9-8951-4029-a686-fed4ffa60cdd",
   "metadata": {},
   "outputs": [
    {
     "data": {
      "text/plain": [
       "tensor([0, 0, 2, 0, 1, 0, 1, 2, 1, 2, 0, 2, 0, 1, 0, 1, 1, 1, 0, 1, 0, 1, 1, 2,\n",
       "        2, 2, 1, 1, 1, 0, 0, 1, 2, 0, 0, 0])"
      ]
     },
     "execution_count": 42,
     "metadata": {},
     "output_type": "execute_result"
    }
   ],
   "source": [
    "preds_test_"
   ]
  },
  {
   "cell_type": "markdown",
   "id": "fda755ce-dc0f-4b78-8190-8f10a67cd8f0",
   "metadata": {},
   "source": [
    "# Metrics"
   ]
  },
  {
   "cell_type": "markdown",
   "id": "25869beb-07b9-437a-bdd0-5edbffcc7c60",
   "metadata": {},
   "source": [
    "## Loss and Accuracy Curves"
   ]
  },
  {
   "cell_type": "code",
   "execution_count": 43,
   "id": "526e0e6f-e885-4dbe-bfbf-d7dbfb6ad38d",
   "metadata": {},
   "outputs": [
    {
     "data": {
      "text/plain": [
       "<matplotlib.legend.Legend at 0x206e9c95190>"
      ]
     },
     "execution_count": 43,
     "metadata": {},
     "output_type": "execute_result"
    },
    {
     "data": {
      "image/png": "[encoded data removed]",
      "text/plain": [
       "<Figure size 432x288 with 1 Axes>"
      ]
     },
     "metadata": {
      "needs_background": "light"
     },
     "output_type": "display_data"
    }
   ],
   "source": [
    "# Plot the loss curves\n",
    "# plt.figure(figsize=(6,12))\n",
    "plt.plot(epoch_list, training_loss_list, label=\"Training Loss\")\n",
    "plt.plot(epoch_list, test_loss_list, label=\"Test Loss\")\n",
    "plt.plot(epoch_list, test_acc_list, label=\"Test Accuracy\")\n",
    "\n",
    "plt.title(\"Loss and Accuracy Curve\")\n",
    "plt.legend()"
   ]
  },
  {
   "cell_type": "code",
   "execution_count": null,
   "id": "1f16c519-2734-44a0-aabc-b63e4b9443aa",
   "metadata": {},
   "outputs": [],
   "source": []
  },
  {
   "cell_type": "code",
   "execution_count": 37,
   "id": "c37c7349-f489-4b9d-9916-14a11270115b",
   "metadata": {},
   "outputs": [],
   "source": [
    "# preds_train_oh = preds_encoding(preds_train)\n",
    "# preds_test_oh = preds_encoding(preds_test)\n",
    "# preds_train_oh = torch.tensor(preds_train_oh, dtype=torch.int64) # numpy arrays to tensors\n",
    "# preds_test_oh = torch.tensor(preds_test_oh, dtype=torch.int64) # numpy arrays to tensors\n",
    "# y_train = y_train.type(torch.int64) # turn into integers\n",
    "# y_test = y_test.type(torch.int64) # turn into integers"
   ]
  },
  {
   "cell_type": "code",
   "execution_count": 38,
   "id": "1ced4ea3-ce98-40e9-9ed7-6ca48d93a4b3",
   "metadata": {},
   "outputs": [],
   "source": [
    "# preds_train_oh[:5], preds_test_oh[:5]"
   ]
  },
  {
   "cell_type": "code",
   "execution_count": 39,
   "id": "395b7d17-5ac4-449d-97d4-9a7b7f231986",
   "metadata": {},
   "outputs": [],
   "source": [
    "# Training accuracy\n",
    "# accuracy_fn(preds_train_oh, y_train)"
   ]
  },
  {
   "cell_type": "code",
   "execution_count": 40,
   "id": "823a19c0-f5fc-4f72-b275-1e0a86234448",
   "metadata": {},
   "outputs": [],
   "source": [
    "# Test accuracy\n",
    "# accuracy_fn(preds_test_oh, y_test)"
   ]
  },
  {
   "cell_type": "code",
   "execution_count": null,
   "id": "cbafa04e-5efa-48d1-955b-3bdd58ab6617",
   "metadata": {},
   "outputs": [],
   "source": []
  },
  {
   "cell_type": "code",
   "execution_count": 41,
   "id": "d697f049-42f2-4b70-80ec-de8e133ae83c",
   "metadata": {},
   "outputs": [],
   "source": [
    "# accuracy_score(y_test, preds_test_oh)"
   ]
  },
  {
   "cell_type": "code",
   "execution_count": null,
   "id": "28df6a4f-00d6-4ce6-b7f1-b7b09467626c",
   "metadata": {},
   "outputs": [],
   "source": []
  }
 ],
 "metadata": {
  "kernelspec": {
   "display_name": "Python 3 (ipykernel)",
   "language": "python",
   "name": "python3"
  },
  "language_info": {
   "codemirror_mode": {
    "name": "ipython",
    "version": 3
   },
   "file_extension": ".py",
   "mimetype": "text/x-python",
   "name": "python",
   "nbconvert_exporter": "python",
   "pygments_lexer": "ipython3",
   "version": "3.9.7"
  }
 },
 "nbformat": 4,
 "nbformat_minor": 5
}
