{
 "cells": [
  {
   "cell_type": "code",
   "execution_count": null,
   "metadata": {
    "id": "VoTI-4sjmFGo"
   },
   "outputs": [],
   "source": [
    "# Import libraries"
   ]
  },
  {
   "cell_type": "code",
   "execution_count": 2,
   "metadata": {
    "executionInfo": {
     "elapsed": 2996,
     "status": "ok",
     "timestamp": 1659014483392,
     "user": {
      "displayName": "Liming Luo",
      "userId": "15773081543218471807"
     },
     "user_tz": -480
    },
    "id": "99IzONSimTmW"
   },
   "outputs": [],
   "source": [
    "import torch\n",
    "import numpy as np\n",
    "import pandas as pd\n",
    "from matplotlib import pyplot as plt\n",
    "import PIL"
   ]
  },
  {
   "cell_type": "markdown",
   "metadata": {
    "id": "PqyLXgYPnFpR"
   },
   "source": [
    "# Tensors"
   ]
  },
  {
   "cell_type": "markdown",
   "metadata": {
    "id": "kLYbxVXpnHSc"
   },
   "source": [
    "## Creating tensors\n",
    "\n",
    "Pytorch tensors are created using `torch.tensor()`"
   ]
  },
  {
   "cell_type": "markdown",
   "metadata": {
    "id": "IKrvSYV6nJjT"
   },
   "source": [
    "### scalar"
   ]
  },
  {
   "cell_type": "code",
   "execution_count": null,
   "metadata": {
    "colab": {
     "base_uri": "https://localhost:8080/"
    },
    "executionInfo": {
     "elapsed": 486,
     "status": "ok",
     "timestamp": 1658807168827,
     "user": {
      "displayName": "Liming Luo",
      "userId": "15773081543218471807"
     },
     "user_tz": -480
    },
    "id": "3_lEF3UamWdK",
    "outputId": "cfe845f3-a028-45f6-e817-a1c4a6f59e45"
   },
   "outputs": [
    {
     "data": {
      "text/plain": [
       "tensor(2.4000)"
      ]
     },
     "execution_count": 4,
     "metadata": {},
     "output_type": "execute_result"
    }
   ],
   "source": [
    "scalar_tensor = torch.tensor(2.4)\n",
    "scalar_tensor"
   ]
  },
  {
   "cell_type": "code",
   "execution_count": null,
   "metadata": {
    "colab": {
     "base_uri": "https://localhost:8080/"
    },
    "executionInfo": {
     "elapsed": 3,
     "status": "ok",
     "timestamp": 1658807172891,
     "user": {
      "displayName": "Liming Luo",
      "userId": "15773081543218471807"
     },
     "user_tz": -480
    },
    "id": "A0JZGiO8mx90",
    "outputId": "59edafde-e628-4657-e2dd-2dbbc6cf271f"
   },
   "outputs": [
    {
     "data": {
      "text/plain": [
       "0"
      ]
     },
     "execution_count": 5,
     "metadata": {},
     "output_type": "execute_result"
    }
   ],
   "source": [
    "scalar_tensor.ndim"
   ]
  },
  {
   "cell_type": "code",
   "execution_count": null,
   "metadata": {
    "colab": {
     "base_uri": "https://localhost:8080/"
    },
    "executionInfo": {
     "elapsed": 466,
     "status": "ok",
     "timestamp": 1658807176136,
     "user": {
      "displayName": "Liming Luo",
      "userId": "15773081543218471807"
     },
     "user_tz": -480
    },
    "id": "smIgACKrnLgI",
    "outputId": "057f679a-c410-4c85-f3d5-6af8ace4b0da"
   },
   "outputs": [
    {
     "data": {
      "text/plain": [
       "2.4000000953674316"
      ]
     },
     "execution_count": 6,
     "metadata": {},
     "output_type": "execute_result"
    }
   ],
   "source": [
    "# Get scalar tensor back as Python int\n",
    "scalar_tensor.item()"
   ]
  },
  {
   "cell_type": "markdown",
   "metadata": {
    "id": "fw6yGxHznN6h"
   },
   "source": [
    "### vector"
   ]
  },
  {
   "cell_type": "code",
   "execution_count": null,
   "metadata": {
    "colab": {
     "base_uri": "https://localhost:8080/"
    },
    "executionInfo": {
     "elapsed": 3,
     "status": "ok",
     "timestamp": 1658807185969,
     "user": {
      "displayName": "Liming Luo",
      "userId": "15773081543218471807"
     },
     "user_tz": -480
    },
    "id": "_354J_KmnMW2",
    "outputId": "b5956766-f1ed-42f4-bb8e-b962d1641067"
   },
   "outputs": [
    {
     "data": {
      "text/plain": [
       "tensor([2, 4])"
      ]
     },
     "execution_count": 7,
     "metadata": {},
     "output_type": "execute_result"
    }
   ],
   "source": [
    "vector = torch.tensor([2, 4])\n",
    "vector"
   ]
  },
  {
   "cell_type": "code",
   "execution_count": null,
   "metadata": {
    "colab": {
     "base_uri": "https://localhost:8080/"
    },
    "executionInfo": {
     "elapsed": 453,
     "status": "ok",
     "timestamp": 1658807188509,
     "user": {
      "displayName": "Liming Luo",
      "userId": "15773081543218471807"
     },
     "user_tz": -480
    },
    "id": "3_-RWhDpnO1A",
    "outputId": "f31f13d7-d456-4dd5-8f7b-b41aec44f613"
   },
   "outputs": [
    {
     "data": {
      "text/plain": [
       "1"
      ]
     },
     "execution_count": 8,
     "metadata": {},
     "output_type": "execute_result"
    }
   ],
   "source": [
    "vector.ndim"
   ]
  },
  {
   "cell_type": "code",
   "execution_count": null,
   "metadata": {
    "colab": {
     "base_uri": "https://localhost:8080/"
    },
    "executionInfo": {
     "elapsed": 455,
     "status": "ok",
     "timestamp": 1658807192474,
     "user": {
      "displayName": "Liming Luo",
      "userId": "15773081543218471807"
     },
     "user_tz": -480
    },
    "id": "kjUcXktFnPgt",
    "outputId": "f27b834c-49b7-42f3-9e44-d48139027e5a"
   },
   "outputs": [
    {
     "data": {
      "text/plain": [
       "torch.Size([2])"
      ]
     },
     "execution_count": 9,
     "metadata": {},
     "output_type": "execute_result"
    }
   ],
   "source": [
    "vector.shape"
   ]
  },
  {
   "cell_type": "markdown",
   "metadata": {
    "id": "wvC-XIKAnRtV"
   },
   "source": [
    "### MATRIX"
   ]
  },
  {
   "cell_type": "code",
   "execution_count": null,
   "metadata": {
    "colab": {
     "base_uri": "https://localhost:8080/"
    },
    "executionInfo": {
     "elapsed": 504,
     "status": "ok",
     "timestamp": 1658807201659,
     "user": {
      "displayName": "Liming Luo",
      "userId": "15773081543218471807"
     },
     "user_tz": -480
    },
    "id": "l0sRlVatnQen",
    "outputId": "150c1a80-f863-46ff-986c-44a4f13f8ed3"
   },
   "outputs": [
    {
     "data": {
      "text/plain": [
       "tensor([[1, 2],\n",
       "        [3, 4]])"
      ]
     },
     "execution_count": 10,
     "metadata": {},
     "output_type": "execute_result"
    }
   ],
   "source": [
    "MATRIX = torch.tensor([[1, 2], [3, 4]])\n",
    "MATRIX"
   ]
  },
  {
   "cell_type": "code",
   "execution_count": null,
   "metadata": {
    "colab": {
     "base_uri": "https://localhost:8080/"
    },
    "executionInfo": {
     "elapsed": 472,
     "status": "ok",
     "timestamp": 1658807204384,
     "user": {
      "displayName": "Liming Luo",
      "userId": "15773081543218471807"
     },
     "user_tz": -480
    },
    "id": "8GZ9TcTunStT",
    "outputId": "dc8d6d65-b344-4b75-9c44-ddbe73409ab3"
   },
   "outputs": [
    {
     "data": {
      "text/plain": [
       "2"
      ]
     },
     "execution_count": 11,
     "metadata": {},
     "output_type": "execute_result"
    }
   ],
   "source": [
    "MATRIX.ndim"
   ]
  },
  {
   "cell_type": "code",
   "execution_count": null,
   "metadata": {
    "colab": {
     "base_uri": "https://localhost:8080/"
    },
    "executionInfo": {
     "elapsed": 457,
     "status": "ok",
     "timestamp": 1658807207343,
     "user": {
      "displayName": "Liming Luo",
      "userId": "15773081543218471807"
     },
     "user_tz": -480
    },
    "id": "Tv-4GNWOnTYW",
    "outputId": "3ab0e759-55e7-44a8-f342-2c3e54d9fd59"
   },
   "outputs": [
    {
     "data": {
      "text/plain": [
       "torch.Size([2, 2])"
      ]
     },
     "execution_count": 12,
     "metadata": {},
     "output_type": "execute_result"
    }
   ],
   "source": [
    "MATRIX.shape"
   ]
  },
  {
   "cell_type": "code",
   "execution_count": null,
   "metadata": {
    "colab": {
     "base_uri": "https://localhost:8080/"
    },
    "executionInfo": {
     "elapsed": 444,
     "status": "ok",
     "timestamp": 1658807218324,
     "user": {
      "displayName": "Liming Luo",
      "userId": "15773081543218471807"
     },
     "user_tz": -480
    },
    "id": "SV-bOS9bnUG6",
    "outputId": "6876aa4b-c58b-43d5-f378-fb0101f640a9"
   },
   "outputs": [
    {
     "data": {
      "text/plain": [
       "tensor([[[1, 2, 3],\n",
       "         [4, 5, 6],\n",
       "         [7, 8, 9]]])"
      ]
     },
     "execution_count": 13,
     "metadata": {},
     "output_type": "execute_result"
    }
   ],
   "source": [
    "TENSOR = torch.tensor([[[1, 2, 3],\n",
    "                        [4, 5, 6],\n",
    "                        [7, 8, 9]]])\n",
    "TENSOR"
   ]
  },
  {
   "cell_type": "code",
   "execution_count": null,
   "metadata": {
    "colab": {
     "base_uri": "https://localhost:8080/"
    },
    "executionInfo": {
     "elapsed": 686,
     "status": "ok",
     "timestamp": 1658807221243,
     "user": {
      "displayName": "Liming Luo",
      "userId": "15773081543218471807"
     },
     "user_tz": -480
    },
    "id": "fZKqOzfjnWqC",
    "outputId": "5855ee30-5c13-412d-cf84-d393bde3f897"
   },
   "outputs": [
    {
     "data": {
      "text/plain": [
       "3"
      ]
     },
     "execution_count": 14,
     "metadata": {},
     "output_type": "execute_result"
    }
   ],
   "source": [
    "TENSOR.ndim"
   ]
  },
  {
   "cell_type": "code",
   "execution_count": null,
   "metadata": {
    "colab": {
     "base_uri": "https://localhost:8080/"
    },
    "executionInfo": {
     "elapsed": 486,
     "status": "ok",
     "timestamp": 1658807224353,
     "user": {
      "displayName": "Liming Luo",
      "userId": "15773081543218471807"
     },
     "user_tz": -480
    },
    "id": "JxNNYu0TnXZ8",
    "outputId": "e043b21f-29ce-4bb8-fcdb-1b14f9960b4c"
   },
   "outputs": [
    {
     "data": {
      "text/plain": [
       "torch.Size([1, 3, 3])"
      ]
     },
     "execution_count": 15,
     "metadata": {},
     "output_type": "execute_result"
    }
   ],
   "source": [
    "TENSOR.shape"
   ]
  },
  {
   "cell_type": "code",
   "execution_count": null,
   "metadata": {
    "colab": {
     "base_uri": "https://localhost:8080/"
    },
    "executionInfo": {
     "elapsed": 434,
     "status": "ok",
     "timestamp": 1658807228345,
     "user": {
      "displayName": "Liming Luo",
      "userId": "15773081543218471807"
     },
     "user_tz": -480
    },
    "id": "0hinh3JNnYLA",
    "outputId": "b2048014-4717-497a-f7bb-498eac215aae"
   },
   "outputs": [
    {
     "data": {
      "text/plain": [
       "tensor([[[1, 2],\n",
       "         [3, 4],\n",
       "         [5, 6]],\n",
       "\n",
       "        [[9, 8],\n",
       "         [4, 5],\n",
       "         [7, 8]]])"
      ]
     },
     "execution_count": 16,
     "metadata": {},
     "output_type": "execute_result"
    }
   ],
   "source": [
    "NEW_TENSOR = torch.tensor([\n",
    "    [[1, 2],[3, 4],[5, 6]],\n",
    "    [[9, 8],[4, 5],[7, 8]]])\n",
    "NEW_TENSOR"
   ]
  },
  {
   "cell_type": "code",
   "execution_count": null,
   "metadata": {
    "colab": {
     "base_uri": "https://localhost:8080/"
    },
    "executionInfo": {
     "elapsed": 458,
     "status": "ok",
     "timestamp": 1658807230836,
     "user": {
      "displayName": "Liming Luo",
      "userId": "15773081543218471807"
     },
     "user_tz": -480
    },
    "id": "TM_URUdAnZGQ",
    "outputId": "e076bd64-30ae-4fbd-e317-317efa92471c"
   },
   "outputs": [
    {
     "data": {
      "text/plain": [
       "torch.Size([2, 3, 2])"
      ]
     },
     "execution_count": 17,
     "metadata": {},
     "output_type": "execute_result"
    }
   ],
   "source": [
    "NEW_TENSOR.shape"
   ]
  },
  {
   "cell_type": "markdown",
   "metadata": {
    "id": "s3y_ik51nbK1"
   },
   "source": [
    "### Random tensors\n",
    "\n",
    "`torch.rand()` returns a tensor filled with random numbers from a uniform distribution on the interval [0,1)"
   ]
  },
  {
   "cell_type": "code",
   "execution_count": null,
   "metadata": {
    "colab": {
     "base_uri": "https://localhost:8080/"
    },
    "executionInfo": {
     "elapsed": 869,
     "status": "ok",
     "timestamp": 1658811828395,
     "user": {
      "displayName": "Liming Luo",
      "userId": "15773081543218471807"
     },
     "user_tz": -480
    },
    "id": "ny22i-5CnZyO",
    "outputId": "12ccf89a-65a8-452e-b55e-976a26cd98b9"
   },
   "outputs": [
    {
     "data": {
      "text/plain": [
       "tensor([[0.3032, 0.7373, 0.7363, 0.3043],\n",
       "        [0.7932, 0.4568, 0.9402, 0.6331],\n",
       "        [0.6750, 0.2324, 0.8268, 0.1430]])"
      ]
     },
     "execution_count": 44,
     "metadata": {},
     "output_type": "execute_result"
    }
   ],
   "source": [
    "random_tensor = torch.rand(3, 4)\n",
    "random_tensor"
   ]
  },
  {
   "cell_type": "markdown",
   "metadata": {
    "id": "OFbuOCHanepi"
   },
   "source": [
    "torch.randint() returns a tensor filled with random integers generated uniformly between low (inclusive) and high (exclusive)."
   ]
  },
  {
   "cell_type": "code",
   "execution_count": null,
   "metadata": {
    "id": "gNfKKRYWndip"
   },
   "outputs": [],
   "source": [
    "random_image_tensor = torch.randint(low=0, high=256, size=(224, 224, 3))"
   ]
  },
  {
   "cell_type": "code",
   "execution_count": null,
   "metadata": {
    "colab": {
     "base_uri": "https://localhost:8080/"
    },
    "executionInfo": {
     "elapsed": 3,
     "status": "ok",
     "timestamp": 1658807575072,
     "user": {
      "displayName": "Liming Luo",
      "userId": "15773081543218471807"
     },
     "user_tz": -480
    },
    "id": "r2s9_d58nfoU",
    "outputId": "f335688e-2d22-43b6-e132-367e4e5b3979"
   },
   "outputs": [
    {
     "data": {
      "text/plain": [
       "torch.Size([224, 224])"
      ]
     },
     "execution_count": 34,
     "metadata": {},
     "output_type": "execute_result"
    }
   ],
   "source": [
    "random_image_tensor.shape"
   ]
  },
  {
   "cell_type": "markdown",
   "metadata": {
    "id": "XM490o4I5V6J"
   },
   "source": [
    "`torch.normal()` returns a tensor of random numbers drawn from separate normal distributions whose mean and standard deviation are given."
   ]
  },
  {
   "cell_type": "code",
   "execution_count": null,
   "metadata": {
    "colab": {
     "base_uri": "https://localhost:8080/"
    },
    "executionInfo": {
     "elapsed": 464,
     "status": "ok",
     "timestamp": 1658811916617,
     "user": {
      "displayName": "Liming Luo",
      "userId": "15773081543218471807"
     },
     "user_tz": -480
    },
    "id": "UU4gaKyOngFM",
    "outputId": "dbc254d0-75b7-43be-b45c-262603fb0f3b"
   },
   "outputs": [
    {
     "data": {
      "text/plain": [
       "tensor([[ 0.5218,  0.6507,  0.4250, -0.6091],\n",
       "        [-0.4760, -0.3344, -0.6256,  0.1752],\n",
       "        [-1.4397, -0.6340,  0.8134,  0.2299]])"
      ]
     },
     "execution_count": 46,
     "metadata": {},
     "output_type": "execute_result"
    }
   ],
   "source": [
    "normal_tensor = torch.normal(0, 1, [3, 4])\n",
    "normal_tensor"
   ]
  },
  {
   "cell_type": "markdown",
   "metadata": {
    "id": "kK6lCRPM5kDT"
   },
   "source": [
    "### Zeros and Ones"
   ]
  },
  {
   "cell_type": "code",
   "execution_count": null,
   "metadata": {
    "colab": {
     "base_uri": "https://localhost:8080/"
    },
    "executionInfo": {
     "elapsed": 511,
     "status": "ok",
     "timestamp": 1658812012582,
     "user": {
      "displayName": "Liming Luo",
      "userId": "15773081543218471807"
     },
     "user_tz": -480
    },
    "id": "GE5qlJ7epLTc",
    "outputId": "0b5f9afb-ebd9-466e-ae7b-f52202909457"
   },
   "outputs": [
    {
     "data": {
      "text/plain": [
       "tensor([[0., 0., 0., 0.],\n",
       "        [0., 0., 0., 0.],\n",
       "        [0., 0., 0., 0.]])"
      ]
     },
     "execution_count": 47,
     "metadata": {},
     "output_type": "execute_result"
    }
   ],
   "source": [
    "zeros = torch.zeros(3, 4)\n",
    "zeros"
   ]
  },
  {
   "cell_type": "code",
   "execution_count": null,
   "metadata": {
    "colab": {
     "base_uri": "https://localhost:8080/"
    },
    "executionInfo": {
     "elapsed": 1159,
     "status": "ok",
     "timestamp": 1658812022232,
     "user": {
      "displayName": "Liming Luo",
      "userId": "15773081543218471807"
     },
     "user_tz": -480
    },
    "id": "ElxLSwyTnhKG",
    "outputId": "770f9d1e-30b5-4a33-a4f4-ff4191f25f7d"
   },
   "outputs": [
    {
     "data": {
      "text/plain": [
       "tensor([[1., 1.],\n",
       "        [1., 1.]])"
      ]
     },
     "execution_count": 48,
     "metadata": {},
     "output_type": "execute_result"
    }
   ],
   "source": [
    "ones = torch.ones(2, 2)\n",
    "ones"
   ]
  },
  {
   "cell_type": "markdown",
   "metadata": {
    "id": "hyPIaFOJ6LkS"
   },
   "source": [
    "### Range of tensors and tensors-like"
   ]
  },
  {
   "cell_type": "code",
   "execution_count": null,
   "metadata": {
    "colab": {
     "base_uri": "https://localhost:8080/"
    },
    "executionInfo": {
     "elapsed": 446,
     "status": "ok",
     "timestamp": 1658812339015,
     "user": {
      "displayName": "Liming Luo",
      "userId": "15773081543218471807"
     },
     "user_tz": -480
    },
    "id": "gI89I7Vsnw5l",
    "outputId": "71c65195-2330-443c-b044-7be2af26c4ee"
   },
   "outputs": [
    {
     "data": {
      "text/plain": [
       "tensor([ 1,  2,  3,  4,  5,  6,  7,  8,  9, 10])"
      ]
     },
     "execution_count": 54,
     "metadata": {},
     "output_type": "execute_result"
    }
   ],
   "source": [
    "# Range of tensors\n",
    "one_to_ten = torch.arange(1, 11)\n",
    "one_to_ten"
   ]
  },
  {
   "cell_type": "code",
   "execution_count": null,
   "metadata": {
    "colab": {
     "base_uri": "https://localhost:8080/"
    },
    "executionInfo": {
     "elapsed": 462,
     "status": "ok",
     "timestamp": 1658812374767,
     "user": {
      "displayName": "Liming Luo",
      "userId": "15773081543218471807"
     },
     "user_tz": -480
    },
    "id": "UFgnDL_T6SQ7",
    "outputId": "a677839d-d954-434d-8a66-768953606682"
   },
   "outputs": [
    {
     "data": {
      "text/plain": [
       "tensor([0, 0, 0, 0, 0, 0, 0, 0, 0, 0])"
      ]
     },
     "execution_count": 55,
     "metadata": {},
     "output_type": "execute_result"
    }
   ],
   "source": [
    "# Tensors-like\n",
    "ten_zeros = torch.zeros_like(one_to_ten)\n",
    "ten_zeros"
   ]
  },
  {
   "cell_type": "code",
   "execution_count": null,
   "metadata": {
    "colab": {
     "base_uri": "https://localhost:8080/"
    },
    "executionInfo": {
     "elapsed": 466,
     "status": "ok",
     "timestamp": 1658812460454,
     "user": {
      "displayName": "Liming Luo",
      "userId": "15773081543218471807"
     },
     "user_tz": -480
    },
    "id": "D0JO-pSY7Bon",
    "outputId": "01b05b57-6ab0-404a-e13e-05f4f50094f4"
   },
   "outputs": [
    {
     "data": {
      "text/plain": [
       "tensor([[1., 1.],\n",
       "        [1., 1.],\n",
       "        [1., 1.],\n",
       "        [1., 1.],\n",
       "        [1., 1.]])"
      ]
     },
     "execution_count": 57,
     "metadata": {},
     "output_type": "execute_result"
    }
   ],
   "source": [
    "# Tensors-like\n",
    "five_two = torch.zeros(5, 2)\n",
    "five_two_one_like = torch.ones_like(five_two)\n",
    "five_two_one_like "
   ]
  },
  {
   "cell_type": "markdown",
   "metadata": {
    "id": "51STBeo77hzL"
   },
   "source": [
    "## Tensor datatypes\n",
    "\n",
    "**Note**: Tensor datatype is one of the 3 big errors with Pytorch and deep learning:\n",
    "1. datatype\n",
    "2. shape\n",
    "3. device"
   ]
  },
  {
   "cell_type": "code",
   "execution_count": null,
   "metadata": {
    "colab": {
     "base_uri": "https://localhost:8080/"
    },
    "executionInfo": {
     "elapsed": 461,
     "status": "ok",
     "timestamp": 1658813133390,
     "user": {
      "displayName": "Liming Luo",
      "userId": "15773081543218471807"
     },
     "user_tz": -480
    },
    "id": "zFooMEWn7U8_",
    "outputId": "a61b1fd7-4448-4363-8c55-80aa8d8e0976"
   },
   "outputs": [
    {
     "data": {
      "text/plain": [
       "torch.int64"
      ]
     },
     "execution_count": 73,
     "metadata": {},
     "output_type": "execute_result"
    }
   ],
   "source": [
    "# int 64 tensor\n",
    "int_64_tensor = torch.tensor([2, 3, 4])\n",
    "int_64_tensor.dtype"
   ]
  },
  {
   "cell_type": "code",
   "execution_count": null,
   "metadata": {
    "colab": {
     "base_uri": "https://localhost:8080/"
    },
    "executionInfo": {
     "elapsed": 454,
     "status": "ok",
     "timestamp": 1658812607228,
     "user": {
      "displayName": "Liming Luo",
      "userId": "15773081543218471807"
     },
     "user_tz": -480
    },
    "id": "cttCty6v7twM",
    "outputId": "925001d1-ffa5-479f-82d3-1fa43c38e32f"
   },
   "outputs": [
    {
     "data": {
      "text/plain": [
       "torch.float32"
      ]
     },
     "execution_count": 63,
     "metadata": {},
     "output_type": "execute_result"
    }
   ],
   "source": [
    "# Float 32 tensor\n",
    "float_32_tensor = torch.tensor([2., 3., 4.])\n",
    "float_32_tensor.dtype"
   ]
  },
  {
   "cell_type": "code",
   "execution_count": null,
   "metadata": {
    "colab": {
     "base_uri": "https://localhost:8080/"
    },
    "executionInfo": {
     "elapsed": 490,
     "status": "ok",
     "timestamp": 1658813110216,
     "user": {
      "displayName": "Liming Luo",
      "userId": "15773081543218471807"
     },
     "user_tz": -480
    },
    "id": "GX6N1Fr672xB",
    "outputId": "29cafea3-940a-4035-b6ff-60dc474126ec"
   },
   "outputs": [
    {
     "data": {
      "text/plain": [
       "torch.float64"
      ]
     },
     "execution_count": 71,
     "metadata": {},
     "output_type": "execute_result"
    }
   ],
   "source": [
    "# Float 64 tensor\n",
    "float_64_tensor = torch.tensor([2., 3., 4.], dtype=torch.float64)\n",
    "float_64_tensor.dtype"
   ]
  },
  {
   "cell_type": "code",
   "execution_count": null,
   "metadata": {
    "colab": {
     "base_uri": "https://localhost:8080/"
    },
    "executionInfo": {
     "elapsed": 488,
     "status": "ok",
     "timestamp": 1658813207555,
     "user": {
      "displayName": "Liming Luo",
      "userId": "15773081543218471807"
     },
     "user_tz": -480
    },
    "id": "IV8mBbdH8TZ2",
    "outputId": "9971a224-1ab7-4dd6-927f-9bf55b6fb716"
   },
   "outputs": [
    {
     "data": {
      "text/plain": [
       "torch.float16"
      ]
     },
     "execution_count": 78,
     "metadata": {},
     "output_type": "execute_result"
    }
   ],
   "source": [
    "# Float 16 tensor\n",
    "float_16_tensor = torch.tensor([2., 3., 4.], dtype=torch.float16)\n",
    "float_16_tensor.dtype"
   ]
  },
  {
   "cell_type": "code",
   "execution_count": null,
   "metadata": {
    "colab": {
     "base_uri": "https://localhost:8080/"
    },
    "executionInfo": {
     "elapsed": 448,
     "status": "ok",
     "timestamp": 1658813012152,
     "user": {
      "displayName": "Liming Luo",
      "userId": "15773081543218471807"
     },
     "user_tz": -480
    },
    "id": "lbTaqHJg8ZsN",
    "outputId": "b71ac61f-1384-4d0f-9f6a-138e7c0e909f"
   },
   "outputs": [
    {
     "data": {
      "text/plain": [
       "tensor([12., 23., 34.], dtype=torch.float16)"
      ]
     },
     "execution_count": 68,
     "metadata": {},
     "output_type": "execute_result"
    }
   ],
   "source": [
    "# Convert float32 to float16\n",
    "new_float_32_tensor = torch.tensor([12., 23., 34.])\n",
    "new_float_16_tensor = new_float_32_tensor.type(torch.float16)\n",
    "new_float_16_tensor"
   ]
  },
  {
   "cell_type": "code",
   "execution_count": null,
   "metadata": {
    "colab": {
     "base_uri": "https://localhost:8080/"
    },
    "executionInfo": {
     "elapsed": 471,
     "status": "ok",
     "timestamp": 1658813180641,
     "user": {
      "displayName": "Liming Luo",
      "userId": "15773081543218471807"
     },
     "user_tz": -480
    },
    "id": "OS0_9J0r9dRS",
    "outputId": "1c576f5f-031a-43fb-8818-f6bd4caad094"
   },
   "outputs": [
    {
     "data": {
      "text/plain": [
       "torch.float64"
      ]
     },
     "execution_count": 76,
     "metadata": {},
     "output_type": "execute_result"
    }
   ],
   "source": [
    "# Different dtypes calculating: int to float\n",
    "a = int_64_tensor * float_64_tensor\n",
    "a.dtype"
   ]
  },
  {
   "cell_type": "code",
   "execution_count": null,
   "metadata": {
    "colab": {
     "base_uri": "https://localhost:8080/"
    },
    "executionInfo": {
     "elapsed": 584,
     "status": "ok",
     "timestamp": 1658813210351,
     "user": {
      "displayName": "Liming Luo",
      "userId": "15773081543218471807"
     },
     "user_tz": -480
    },
    "id": "6JtqcMeN9uyD",
    "outputId": "cca4f074-0ce4-4417-e3e0-e649217e5fa7"
   },
   "outputs": [
    {
     "data": {
      "text/plain": [
       "torch.float64"
      ]
     },
     "execution_count": 79,
     "metadata": {},
     "output_type": "execute_result"
    }
   ],
   "source": [
    "# Different dtypes calculating: small to large\n",
    "a = float_16_tensor * float_64_tensor\n",
    "a.dtype"
   ]
  },
  {
   "cell_type": "markdown",
   "metadata": {
    "id": "OTOCQWhX_fRm"
   },
   "source": [
    "## Get info from tensors\n",
    "1. datatype - tensor.dtype\n",
    "2. shape - tensor.shape\n",
    "3. device - tensor.device"
   ]
  },
  {
   "cell_type": "code",
   "execution_count": null,
   "metadata": {
    "colab": {
     "base_uri": "https://localhost:8080/"
    },
    "executionInfo": {
     "elapsed": 471,
     "status": "ok",
     "timestamp": 1658813622082,
     "user": {
      "displayName": "Liming Luo",
      "userId": "15773081543218471807"
     },
     "user_tz": -480
    },
    "id": "Y9C3WFW0-Ilk",
    "outputId": "8b83d715-9c55-4549-f249-4a08515486f2"
   },
   "outputs": [
    {
     "data": {
      "text/plain": [
       "tensor([[-2.3529,  0.3728],\n",
       "        [-0.0385, -0.0033]])"
      ]
     },
     "execution_count": 80,
     "metadata": {},
     "output_type": "execute_result"
    }
   ],
   "source": [
    "# Create a tensor\n",
    "some_tensor = torch.normal(1, 1, (2, 2))\n",
    "some_tensor"
   ]
  },
  {
   "cell_type": "code",
   "execution_count": null,
   "metadata": {
    "colab": {
     "base_uri": "https://localhost:8080/"
    },
    "executionInfo": {
     "elapsed": 451,
     "status": "ok",
     "timestamp": 1658813738544,
     "user": {
      "displayName": "Liming Luo",
      "userId": "15773081543218471807"
     },
     "user_tz": -480
    },
    "id": "A6GpKIch_yEu",
    "outputId": "e971ed50-e4a4-414e-d35d-ee9634371046"
   },
   "outputs": [
    {
     "name": "stdout",
     "output_type": "stream",
     "text": [
      "Datatype: torch.float32\n",
      "Shape: torch.Size([2, 2])\n",
      "Size: torch.Size([2, 2])\n",
      "Device: cpu\n"
     ]
    }
   ],
   "source": [
    "print(f\"Datatype: {some_tensor.dtype}\")\n",
    "print(f\"Shape: {some_tensor.shape}\")\n",
    "print(f\"Size: {some_tensor.size()}\")\n",
    "print(f\"Device: {some_tensor.device}\")"
   ]
  },
  {
   "cell_type": "markdown",
   "metadata": {
    "id": "k_OtGky2AodX"
   },
   "source": [
    "## Manipulating tensors\n",
    "\n",
    "1. **Operations**\n",
    "* Addition\n",
    "* Subtraction\n",
    "* Multiplication (element-wise)\n",
    "* Division\n",
    "* Multiplication (MATRIX)\n",
    "\n",
    "2. **Transpose**\n",
    "3. **Aggregation**\n",
    "4. **Reshaping, stacking, squeezing**"
   ]
  },
  {
   "cell_type": "markdown",
   "metadata": {
    "id": "M92Ziv1_I2Pg"
   },
   "source": [
    "### Tensor Operations"
   ]
  },
  {
   "cell_type": "code",
   "execution_count": null,
   "metadata": {
    "id": "Ms2P7HyPAB5F"
   },
   "outputs": [],
   "source": [
    "# Create tensors\n",
    "tensor_one = torch.tensor([1, 2, 3])\n",
    "tensor_two = t orch.tensor([10, 21, 32])\n",
    "tensor_three =torch.tensor([[2],[3],[4]])"
   ]
  },
  {
   "cell_type": "code",
   "execution_count": null,
   "metadata": {
    "colab": {
     "base_uri": "https://localhost:8080/"
    },
    "executionInfo": {
     "elapsed": 446,
     "status": "ok",
     "timestamp": 1658814077574,
     "user": {
      "displayName": "Liming Luo",
      "userId": "15773081543218471807"
     },
     "user_tz": -480
    },
    "id": "n76TP22FBK_4",
    "outputId": "201935b7-f26a-4118-b9b3-641fb19df479"
   },
   "outputs": [
    {
     "name": "stdout",
     "output_type": "stream",
     "text": [
      "tensor([11, 12, 13])\n",
      "tensor([11, 23, 35])\n",
      "tensor([11, 12, 13])\n",
      "tensor([11, 23, 35])\n"
     ]
    }
   ],
   "source": [
    "# Addition\n",
    "print(tensor_one + 10)\n",
    "print(tensor_one + tensor_two)\n",
    "print(torch.add(tensor_one, 10)) # Faster\n",
    "print(torch.add(tensor_one, tensor_two)) # Faster"
   ]
  },
  {
   "cell_type": "code",
   "execution_count": null,
   "metadata": {
    "colab": {
     "base_uri": "https://localhost:8080/"
    },
    "executionInfo": {
     "elapsed": 462,
     "status": "ok",
     "timestamp": 1658814123707,
     "user": {
      "displayName": "Liming Luo",
      "userId": "15773081543218471807"
     },
     "user_tz": -480
    },
    "id": "70ybQjnxBcUe",
    "outputId": "b3a2848f-38a7-4c78-ef3a-56ddd777eb91"
   },
   "outputs": [
    {
     "name": "stdout",
     "output_type": "stream",
     "text": [
      "tensor([-9, -8, -7])\n",
      "tensor([ -9, -19, -29])\n",
      "tensor([-9, -8, -7])\n",
      "tensor([ -9, -19, -29])\n"
     ]
    }
   ],
   "source": [
    "# Subtraction\n",
    "print(tensor_one - 10)\n",
    "print(tensor_one - tensor_two)\n",
    "print(torch.sub(tensor_one, 10)) # Faster\n",
    "print(torch.sub(tensor_one, tensor_two)) # Faster"
   ]
  },
  {
   "cell_type": "code",
   "execution_count": null,
   "metadata": {
    "colab": {
     "base_uri": "https://localhost:8080/"
    },
    "executionInfo": {
     "elapsed": 464,
     "status": "ok",
     "timestamp": 1658814163160,
     "user": {
      "displayName": "Liming Luo",
      "userId": "15773081543218471807"
     },
     "user_tz": -480
    },
    "id": "caRC_7bUBsiU",
    "outputId": "156a5512-5c26-4510-8d9d-a0bcee400c7f"
   },
   "outputs": [
    {
     "name": "stdout",
     "output_type": "stream",
     "text": [
      "tensor([10, 20, 30])\n",
      "tensor([10, 20, 30])\n"
     ]
    }
   ],
   "source": [
    "# Multiplication (element-wise)\n",
    "print(tensor_one * 10)\n",
    "print(torch.mul(tensor_one, 10)) # Faster"
   ]
  },
  {
   "cell_type": "code",
   "execution_count": null,
   "metadata": {
    "colab": {
     "base_uri": "https://localhost:8080/"
    },
    "executionInfo": {
     "elapsed": 468,
     "status": "ok",
     "timestamp": 1658814290296,
     "user": {
      "displayName": "Liming Luo",
      "userId": "15773081543218471807"
     },
     "user_tz": -480
    },
    "id": "OIxMqQjPCPrJ",
    "outputId": "fbc11a50-23cc-47b9-cee6-efe2d07c046b"
   },
   "outputs": [
    {
     "name": "stdout",
     "output_type": "stream",
     "text": [
      "tensor([0.1000, 0.2000, 0.3000])\n",
      "tensor([0.1000, 0.2000, 0.3000])\n"
     ]
    }
   ],
   "source": [
    "# Division\n",
    "print(tensor_one / 10)\n",
    "print(torch.div(tensor_one, 10)) # Faster"
   ]
  },
  {
   "cell_type": "code",
   "execution_count": null,
   "metadata": {
    "colab": {
     "base_uri": "https://localhost:8080/"
    },
    "executionInfo": {
     "elapsed": 510,
     "status": "ok",
     "timestamp": 1658814523899,
     "user": {
      "displayName": "Liming Luo",
      "userId": "15773081543218471807"
     },
     "user_tz": -480
    },
    "id": "vCJLDlrrB2CB",
    "outputId": "6cdb74fb-28dd-45a3-c559-ee9c7f564d40"
   },
   "outputs": [
    {
     "name": "stdout",
     "output_type": "stream",
     "text": [
      "tensor([20])\n",
      "tensor([20])\n"
     ]
    }
   ],
   "source": [
    "# Multiplication (MATRIX)\n",
    "print(tensor_one @ tensor_three) \n",
    "print(torch.matmul(tensor_one, tensor_three)) # Faster"
   ]
  },
  {
   "cell_type": "code",
   "execution_count": null,
   "metadata": {
    "colab": {
     "base_uri": "https://localhost:8080/"
    },
    "executionInfo": {
     "elapsed": 457,
     "status": "ok",
     "timestamp": 1658814734718,
     "user": {
      "displayName": "Liming Luo",
      "userId": "15773081543218471807"
     },
     "user_tz": -480
    },
    "id": "JJjv-34uDYQl",
    "outputId": "43c46520-5bee-41b2-8296-359332117c11"
   },
   "outputs": [
    {
     "name": "stdout",
     "output_type": "stream",
     "text": [
      "tensor(14)\n",
      "CPU times: user 1.21 ms, sys: 14 µs, total: 1.22 ms\n",
      "Wall time: 1.11 ms\n"
     ]
    }
   ],
   "source": [
    "%%time\n",
    "value = 0\n",
    "for i in range(len(tensor_one)):\n",
    "    value += tensor_one[i] * tensor_one[i]\n",
    "print(value)"
   ]
  },
  {
   "cell_type": "code",
   "execution_count": null,
   "metadata": {
    "colab": {
     "base_uri": "https://localhost:8080/"
    },
    "executionInfo": {
     "elapsed": 637,
     "status": "ok",
     "timestamp": 1658814737113,
     "user": {
      "displayName": "Liming Luo",
      "userId": "15773081543218471807"
     },
     "user_tz": -480
    },
    "id": "D6gmKqhED1eP",
    "outputId": "f7c94c9a-57cd-4562-ff78-0e887af3dfcf"
   },
   "outputs": [
    {
     "name": "stdout",
     "output_type": "stream",
     "text": [
      "tensor(14)\n",
      "CPU times: user 1.58 ms, sys: 818 µs, total: 2.4 ms\n",
      "Wall time: 2.38 ms\n"
     ]
    }
   ],
   "source": [
    "%%time\n",
    "print(tensor_one @ tensor_one)"
   ]
  },
  {
   "cell_type": "code",
   "execution_count": null,
   "metadata": {
    "colab": {
     "base_uri": "https://localhost:8080/"
    },
    "executionInfo": {
     "elapsed": 467,
     "status": "ok",
     "timestamp": 1658814739592,
     "user": {
      "displayName": "Liming Luo",
      "userId": "15773081543218471807"
     },
     "user_tz": -480
    },
    "id": "bZnJC3BRD5Mz",
    "outputId": "45a74c8a-0605-426b-90b3-8efd0d6b58a3"
   },
   "outputs": [
    {
     "name": "stdout",
     "output_type": "stream",
     "text": [
      "tensor(14)\n",
      "CPU times: user 577 µs, sys: 0 ns, total: 577 µs\n",
      "Wall time: 588 µs\n"
     ]
    }
   ],
   "source": [
    "%%time\n",
    "print(torch.matmul(tensor_one, tensor_one))"
   ]
  },
  {
   "cell_type": "markdown",
   "metadata": {
    "id": "_78Gj8PSI6pQ"
   },
   "source": [
    "### Tensor Transpose"
   ]
  },
  {
   "cell_type": "code",
   "execution_count": null,
   "metadata": {
    "colab": {
     "base_uri": "https://localhost:8080/"
    },
    "executionInfo": {
     "elapsed": 487,
     "status": "ok",
     "timestamp": 1658815748049,
     "user": {
      "displayName": "Liming Luo",
      "userId": "15773081543218471807"
     },
     "user_tz": -480
    },
    "id": "5MvqSjZzE5GG",
    "outputId": "a27d5a6a-f4ff-4fff-dfeb-0cbbeebc5ba2"
   },
   "outputs": [
    {
     "name": "stdout",
     "output_type": "stream",
     "text": [
      "tensor([[0.9990, 0.0688],\n",
      "        [0.7740, 0.7146],\n",
      "        [0.4880, 0.0411]])\n",
      "tensor([[0.6953, 0.5218],\n",
      "        [0.2144, 0.8462],\n",
      "        [0.1952, 0.5748]])\n"
     ]
    }
   ],
   "source": [
    "tensor_A = torch.rand(3, 2)\n",
    "tensor_B = torch.rand(3, 2)\n",
    "print(tensor_A)\n",
    "print(tensor_B)"
   ]
  },
  {
   "cell_type": "code",
   "execution_count": null,
   "metadata": {
    "colab": {
     "base_uri": "https://localhost:8080/",
     "height": 166
    },
    "executionInfo": {
     "elapsed": 485,
     "status": "error",
     "timestamp": 1658815799366,
     "user": {
      "displayName": "Liming Luo",
      "userId": "15773081543218471807"
     },
     "user_tz": -480
    },
    "id": "LfZr_s_vH4-X",
    "outputId": "f9470475-60cd-4757-a38f-650091e92e19"
   },
   "outputs": [
    {
     "ename": "RuntimeError",
     "evalue": "ignored",
     "output_type": "error",
     "traceback": [
      "\u001b[0;31m---------------------------------------------------------------------------\u001b[0m",
      "\u001b[0;31mRuntimeError\u001b[0m                              Traceback (most recent call last)",
      "\u001b[0;32m<ipython-input-111-e10a39c072b9>\u001b[0m in \u001b[0;36m<module>\u001b[0;34m()\u001b[0m\n\u001b[0;32m----> 1\u001b[0;31m \u001b[0mtorch\u001b[0m\u001b[0;34m.\u001b[0m\u001b[0mmatmul\u001b[0m\u001b[0;34m(\u001b[0m\u001b[0mtensor_A\u001b[0m\u001b[0;34m,\u001b[0m \u001b[0mtensor_B\u001b[0m\u001b[0;34m)\u001b[0m \u001b[0;31m# Inner tensor shape not matched\u001b[0m\u001b[0;34m\u001b[0m\u001b[0;34m\u001b[0m\u001b[0m\n\u001b[0m",
      "\u001b[0;31mRuntimeError\u001b[0m: mat1 and mat2 shapes cannot be multiplied (3x2 and 3x2)"
     ]
    }
   ],
   "source": [
    "torch.matmul(tensor_A, tensor_B) # Inner tensor shape not matched"
   ]
  },
  {
   "cell_type": "code",
   "execution_count": null,
   "metadata": {
    "colab": {
     "base_uri": "https://localhost:8080/"
    },
    "executionInfo": {
     "elapsed": 469,
     "status": "ok",
     "timestamp": 1658815830985,
     "user": {
      "displayName": "Liming Luo",
      "userId": "15773081543218471807"
     },
     "user_tz": -480
    },
    "id": "LcwkdrwzIKLP",
    "outputId": "19217d71-60e1-4305-c259-3cb5ec17cb93"
   },
   "outputs": [
    {
     "name": "stdout",
     "output_type": "stream",
     "text": [
      "tensor([[0.6953, 0.5218],\n",
      "        [0.2144, 0.8462],\n",
      "        [0.1952, 0.5748]])\n",
      "tensor([[0.6953, 0.2144, 0.1952],\n",
      "        [0.5218, 0.8462, 0.5748]])\n"
     ]
    }
   ],
   "source": [
    "print(tensor_B)\n",
    "print(tensor_B.T)"
   ]
  },
  {
   "cell_type": "code",
   "execution_count": null,
   "metadata": {
    "colab": {
     "base_uri": "https://localhost:8080/"
    },
    "executionInfo": {
     "elapsed": 508,
     "status": "ok",
     "timestamp": 1658815803840,
     "user": {
      "displayName": "Liming Luo",
      "userId": "15773081543218471807"
     },
     "user_tz": -480
    },
    "id": "vyiItr0GH9_d",
    "outputId": "16d878b0-39d1-4ed9-b32e-82754f8bf601"
   },
   "outputs": [
    {
     "data": {
      "text/plain": [
       "tensor([[0.7304, 0.2724, 0.2346],\n",
       "        [0.9111, 0.7707, 0.5619],\n",
       "        [0.3607, 0.1394, 0.1189]])"
      ]
     },
     "execution_count": 112,
     "metadata": {},
     "output_type": "execute_result"
    }
   ],
   "source": [
    "torch.matmul(tensor_A, tensor_B.T)"
   ]
  },
  {
   "cell_type": "markdown",
   "metadata": {
    "id": "FvA3AYsJI8T4"
   },
   "source": [
    "### Tensor Aggregation"
   ]
  },
  {
   "cell_type": "code",
   "execution_count": null,
   "metadata": {
    "colab": {
     "base_uri": "https://localhost:8080/"
    },
    "executionInfo": {
     "elapsed": 510,
     "status": "ok",
     "timestamp": 1658816302223,
     "user": {
      "displayName": "Liming Luo",
      "userId": "15773081543218471807"
     },
     "user_tz": -480
    },
    "id": "pztyrRnwI9nr",
    "outputId": "2fcf8793-3756-4a16-9366-d92bf3a1e008"
   },
   "outputs": [
    {
     "data": {
      "text/plain": [
       "tensor([ 1.,  2.,  3.,  4.,  5.,  6.,  7.,  8.,  9., 10.])"
      ]
     },
     "execution_count": 134,
     "metadata": {},
     "output_type": "execute_result"
    }
   ],
   "source": [
    "# Create a tensor\n",
    "x = torch.arange(1, 11, dtype=torch.float32)\n",
    "x"
   ]
  },
  {
   "cell_type": "code",
   "execution_count": null,
   "metadata": {
    "colab": {
     "base_uri": "https://localhost:8080/"
    },
    "executionInfo": {
     "elapsed": 579,
     "status": "ok",
     "timestamp": 1658816311579,
     "user": {
      "displayName": "Liming Luo",
      "userId": "15773081543218471807"
     },
     "user_tz": -480
    },
    "id": "9A_Zu9bcJPo5",
    "outputId": "91436aee-973a-46a7-bfa5-e6ea965569ef"
   },
   "outputs": [
    {
     "name": "stdout",
     "output_type": "stream",
     "text": [
      "tensor(1.)\n",
      "tensor(1.)\n"
     ]
    }
   ],
   "source": [
    "# Find the min\n",
    "print(torch.min(x))\n",
    "print(x.min())"
   ]
  },
  {
   "cell_type": "code",
   "execution_count": null,
   "metadata": {
    "colab": {
     "base_uri": "https://localhost:8080/"
    },
    "executionInfo": {
     "elapsed": 491,
     "status": "ok",
     "timestamp": 1658816314717,
     "user": {
      "displayName": "Liming Luo",
      "userId": "15773081543218471807"
     },
     "user_tz": -480
    },
    "id": "gUhlX75_JYbt",
    "outputId": "f076d95c-3ce7-4c00-ab6a-60ecc2a9a18d"
   },
   "outputs": [
    {
     "name": "stdout",
     "output_type": "stream",
     "text": [
      "tensor(10.)\n",
      "tensor(10.)\n"
     ]
    }
   ],
   "source": [
    "# Find the max\n",
    "print(torch.max(x))\n",
    "print(x.max())"
   ]
  },
  {
   "cell_type": "code",
   "execution_count": null,
   "metadata": {
    "colab": {
     "base_uri": "https://localhost:8080/"
    },
    "executionInfo": {
     "elapsed": 468,
     "status": "ok",
     "timestamp": 1658816341724,
     "user": {
      "displayName": "Liming Luo",
      "userId": "15773081543218471807"
     },
     "user_tz": -480
    },
    "id": "de0dNIokJa3u",
    "outputId": "fbe1fccf-473c-4ac0-88cc-5b0f84bfa83d"
   },
   "outputs": [
    {
     "name": "stdout",
     "output_type": "stream",
     "text": [
      "tensor(5.5000)\n",
      "tensor(5.5000)\n"
     ]
    }
   ],
   "source": [
    "# Find the mean !! cannot be executed with long datatype\n",
    "print(torch.mean(x))\n",
    "print(x.mean())"
   ]
  },
  {
   "cell_type": "code",
   "execution_count": null,
   "metadata": {
    "colab": {
     "base_uri": "https://localhost:8080/"
    },
    "executionInfo": {
     "elapsed": 535,
     "status": "ok",
     "timestamp": 1658816454914,
     "user": {
      "displayName": "Liming Luo",
      "userId": "15773081543218471807"
     },
     "user_tz": -480
    },
    "id": "5cw5w84TJcP1",
    "outputId": "5fa3182c-c111-461c-fbbc-90508dd02c11"
   },
   "outputs": [
    {
     "name": "stdout",
     "output_type": "stream",
     "text": [
      "tensor(55.)\n",
      "tensor(55.)\n"
     ]
    }
   ],
   "source": [
    "# Find the sum\n",
    "print(torch.sum(x))\n",
    "print(x.sum())"
   ]
  },
  {
   "cell_type": "code",
   "execution_count": null,
   "metadata": {
    "colab": {
     "base_uri": "https://localhost:8080/"
    },
    "executionInfo": {
     "elapsed": 636,
     "status": "ok",
     "timestamp": 1658816675434,
     "user": {
      "displayName": "Liming Luo",
      "userId": "15773081543218471807"
     },
     "user_tz": -480
    },
    "id": "PFWTqt9YKluM",
    "outputId": "a3cfea64-66d4-4740-b0d8-84fb6e922da1"
   },
   "outputs": [
    {
     "name": "stdout",
     "output_type": "stream",
     "text": [
      "tensor(1)\n",
      "tensor(3)\n"
     ]
    }
   ],
   "source": [
    "# Find the positional min and max\n",
    "y = torch.tensor([6, 2, 10, 18])\n",
    "print(y.argmin())\n",
    "print(y.argmax())"
   ]
  },
  {
   "cell_type": "markdown",
   "metadata": {
    "id": "2hgLYJ2HNeS4"
   },
   "source": [
    "### Reshaping, stacking, squeezing"
   ]
  },
  {
   "cell_type": "code",
   "execution_count": null,
   "metadata": {
    "colab": {
     "base_uri": "https://localhost:8080/"
    },
    "executionInfo": {
     "elapsed": 496,
     "status": "ok",
     "timestamp": 1658818255990,
     "user": {
      "displayName": "Liming Luo",
      "userId": "15773081543218471807"
     },
     "user_tz": -480
    },
    "id": "eZ2v-ZZBPBgW",
    "outputId": "720ac0ad-7901-4641-e823-59f0dcd1ff2a"
   },
   "outputs": [
    {
     "data": {
      "text/plain": [
       "tensor([ 1.,  2.,  3.,  4.,  5.,  6.,  7.,  8.,  9., 10.])"
      ]
     },
     "execution_count": 164,
     "metadata": {},
     "output_type": "execute_result"
    }
   ],
   "source": [
    "# Creating a tensor\n",
    "x = torch.arange(1, 11, dtype=torch.float32)\n",
    "x"
   ]
  },
  {
   "cell_type": "code",
   "execution_count": null,
   "metadata": {
    "colab": {
     "base_uri": "https://localhost:8080/"
    },
    "executionInfo": {
     "elapsed": 2,
     "status": "ok",
     "timestamp": 1658818257567,
     "user": {
      "displayName": "Liming Luo",
      "userId": "15773081543218471807"
     },
     "user_tz": -480
    },
    "id": "0_OKK5C8LGLK",
    "outputId": "2e1bed2d-f4ca-4b39-eaaa-42a3d18097f3"
   },
   "outputs": [
    {
     "name": "stdout",
     "output_type": "stream",
     "text": [
      "tensor([[ 1.,  2.,  3.,  4.,  5.],\n",
      "        [ 6.,  7.,  8.,  9., 10.]])\n",
      "tensor([[ 1.,  2.,  3.,  4.,  5.],\n",
      "        [ 6.,  7.,  8.,  9., 10.]])\n"
     ]
    }
   ],
   "source": [
    "# Reshaping - reshape an input tensor to a defined shape\n",
    "x_reshaped_one = x.reshape(2, 5)\n",
    "x_reshaped_two = torch.reshape(x, (2, 5))\n",
    "print(x_reshaped_one)\n",
    "print(x_reshaped_two)"
   ]
  },
  {
   "cell_type": "code",
   "execution_count": null,
   "metadata": {
    "colab": {
     "base_uri": "https://localhost:8080/"
    },
    "executionInfo": {
     "elapsed": 2,
     "status": "ok",
     "timestamp": 1658818259199,
     "user": {
      "displayName": "Liming Luo",
      "userId": "15773081543218471807"
     },
     "user_tz": -480
    },
    "id": "Hz6-XqRiPSkL",
    "outputId": "af0c2fbe-854c-40b3-e341-9243f946764c"
   },
   "outputs": [
    {
     "name": "stdout",
     "output_type": "stream",
     "text": [
      "tensor([[ 1.,  2.,  3.,  4.,  5.],\n",
      "        [ 6.,  7.,  8.,  9., 10.]])\n",
      "tensor([[ 5.,  5.,  5.,  5.,  5.],\n",
      "        [ 6.,  7.,  8.,  9., 10.]])\n",
      "tensor([ 5.,  5.,  5.,  5.,  5.,  6.,  7.,  8.,  9., 10.])\n"
     ]
    }
   ],
   "source": [
    "# View - share the same memory as the orginal input tensor\n",
    "x_view_one = x.view(2, 5)\n",
    "print(x_view_one)\n",
    "x_view_one[0, :] = 5\n",
    "print(x_view_one)\n",
    "print(x)"
   ]
  },
  {
   "cell_type": "code",
   "execution_count": null,
   "metadata": {
    "colab": {
     "base_uri": "https://localhost:8080/"
    },
    "executionInfo": {
     "elapsed": 470,
     "status": "ok",
     "timestamp": 1658818321571,
     "user": {
      "displayName": "Liming Luo",
      "userId": "15773081543218471807"
     },
     "user_tz": -480
    },
    "id": "cnR3LfvwP6W6",
    "outputId": "171bbdf7-f4ba-47d9-e148-49115a9c31e9"
   },
   "outputs": [
    {
     "name": "stdout",
     "output_type": "stream",
     "text": [
      "tensor([[ 5.,  5.,  5.,  5.,  5.,  6.,  7.,  8.,  9., 10.],\n",
      "        [ 5.,  5.,  5.,  5.,  5.,  6.,  7.,  8.,  9., 10.],\n",
      "        [ 5.,  5.,  5.,  5.,  5.,  6.,  7.,  8.,  9., 10.]])\n",
      "tensor([[ 5.,  5.,  5.],\n",
      "        [ 5.,  5.,  5.],\n",
      "        [ 5.,  5.,  5.],\n",
      "        [ 5.,  5.,  5.],\n",
      "        [ 5.,  5.,  5.],\n",
      "        [ 6.,  6.,  6.],\n",
      "        [ 7.,  7.,  7.],\n",
      "        [ 8.,  8.,  8.],\n",
      "        [ 9.,  9.,  9.],\n",
      "        [10., 10., 10.]])\n"
     ]
    }
   ],
   "source": [
    "# Stack tensors on top of each other, both tensors have to be the same size\n",
    "x_stacked_0 = torch.stack([x, x, x], dim=0)\n",
    "x_stacked_1 = torch.stack([x, x, x], dim=1)\n",
    "print(x_stacked_0)\n",
    "print(x_stacked_1)"
   ]
  },
  {
   "cell_type": "code",
   "execution_count": null,
   "metadata": {
    "colab": {
     "base_uri": "https://localhost:8080/"
    },
    "executionInfo": {
     "elapsed": 591,
     "status": "ok",
     "timestamp": 1658818464625,
     "user": {
      "displayName": "Liming Luo",
      "userId": "15773081543218471807"
     },
     "user_tz": -480
    },
    "id": "_b2QCsamRjen",
    "outputId": "f82a8041-7f01-4671-c6a8-24197357c3e6"
   },
   "outputs": [
    {
     "data": {
      "text/plain": [
       "(tensor([[[0.9015, 0.0945],\n",
       "          [0.3713, 0.7358],\n",
       "          [0.9611, 0.8343],\n",
       "          [0.9472, 0.1474]],\n",
       " \n",
       "         [[0.2131, 0.7186],\n",
       "          [0.9883, 0.6566],\n",
       "          [0.4658, 0.3388],\n",
       "          [0.9232, 0.6826]],\n",
       " \n",
       "         [[0.3505, 0.1320],\n",
       "          [0.4019, 0.2694],\n",
       "          [0.5101, 0.3875],\n",
       "          [0.8441, 0.5727]]]), torch.Size([3, 4, 2]))"
      ]
     },
     "execution_count": 176,
     "metadata": {},
     "output_type": "execute_result"
    }
   ],
   "source": [
    "a = torch.rand(3, 4)\n",
    "b = torch.rand(3, 4)\n",
    "stacked = torch.stack([a, b], dim = 2)\n",
    "stacked, stacked.shape"
   ]
  },
  {
   "cell_type": "code",
   "execution_count": null,
   "metadata": {
    "colab": {
     "base_uri": "https://localhost:8080/"
    },
    "executionInfo": {
     "elapsed": 2,
     "status": "ok",
     "timestamp": 1658974687425,
     "user": {
      "displayName": "Liming Luo",
      "userId": "15773081543218471807"
     },
     "user_tz": -480
    },
    "id": "16tjzxchSCI6",
    "outputId": "f2ebea52-7c49-4e80-adbe-ea1ee7af94b8"
   },
   "outputs": [
    {
     "name": "stdout",
     "output_type": "stream",
     "text": [
      "torch.Size([1, 3])\n",
      "torch.Size([3])\n",
      "tensor([1, 2, 3])\n"
     ]
    }
   ],
   "source": [
    "# torch.squeeze() returns a tensor with all the dimensions of input of size 1 removed.\n",
    "unsqueezed = torch.tensor([[1,2,3]])\n",
    "print(unsqueezed.shape)\n",
    "unsqueezed = torch.squeeze(unsqueezed)\n",
    "print(unsqueezed.shape)\n",
    "print(unsqueezed)"
   ]
  },
  {
   "cell_type": "code",
   "execution_count": null,
   "metadata": {
    "colab": {
     "base_uri": "https://localhost:8080/"
    },
    "executionInfo": {
     "elapsed": 549,
     "status": "ok",
     "timestamp": 1658975991055,
     "user": {
      "displayName": "Liming Luo",
      "userId": "15773081543218471807"
     },
     "user_tz": -480
    },
    "id": "__PC6XdNln14",
    "outputId": "a78dd384-3887-4310-ba4a-354c5bc4d610"
   },
   "outputs": [
    {
     "name": "stdout",
     "output_type": "stream",
     "text": [
      "Previous:tensor([1, 2, 3])\n",
      "after:tensor([[1],\n",
      "        [2],\n",
      "        [3]])\n"
     ]
    }
   ],
   "source": [
    "# torch.unsqueeze() add a single dimension to a target tensor at a specific dim\n",
    "x = torch.tensor([1,2,3])\n",
    "print(f\"Previous:{x}\" )\n",
    "x_unsqueezed = torch.unsqueeze(x, dim = 1)\n",
    "print(f\"after:{x_unsqueezed}\")"
   ]
  },
  {
   "cell_type": "code",
   "execution_count": null,
   "metadata": {
    "colab": {
     "base_uri": "https://localhost:8080/"
    },
    "executionInfo": {
     "elapsed": 526,
     "status": "ok",
     "timestamp": 1658976197803,
     "user": {
      "displayName": "Liming Luo",
      "userId": "15773081543218471807"
     },
     "user_tz": -480
    },
    "id": "_Yd_LS6Sq_jq",
    "outputId": "012ab2a3-9086-494d-d4a1-fce3f88e33d8"
   },
   "outputs": [
    {
     "data": {
      "text/plain": [
       "torch.Size([3, 224, 224])"
      ]
     },
     "execution_count": 18,
     "metadata": {},
     "output_type": "execute_result"
    }
   ],
   "source": [
    "# torch.permute() returns a view of the original tensor input with its dimensions permuted.\n",
    "x_orig = torch.rand(224, 224, 3) # [height, width, colour_channels]\n",
    "\n",
    "x_permuted = torch.permute(x_orig, (2, 0, 1))\n",
    "x_permuted.shape"
   ]
  },
  {
   "cell_type": "markdown",
   "metadata": {
    "id": "rcyAo514sx0A"
   },
   "source": [
    "### Indexing"
   ]
  },
  {
   "cell_type": "code",
   "execution_count": 4,
   "metadata": {
    "colab": {
     "base_uri": "https://localhost:8080/"
    },
    "executionInfo": {
     "elapsed": 579,
     "status": "ok",
     "timestamp": 1659012950605,
     "user": {
      "displayName": "Liming Luo",
      "userId": "15773081543218471807"
     },
     "user_tz": -480
    },
    "id": "HRWiYs32rC9e",
    "outputId": "1089a41b-4d6f-49bb-afb0-4aed06bc2622"
   },
   "outputs": [
    {
     "data": {
      "text/plain": [
       "(tensor([[[1, 2, 3],\n",
       "          [4, 5, 6],\n",
       "          [7, 8, 9]]]), torch.Size([1, 3, 3]))"
      ]
     },
     "execution_count": 4,
     "metadata": {},
     "output_type": "execute_result"
    }
   ],
   "source": [
    "# Create a tensor\n",
    "x = torch.arange(1, 10).reshape(1, 3, 3)\n",
    "x, x.shape"
   ]
  },
  {
   "cell_type": "code",
   "execution_count": 5,
   "metadata": {
    "colab": {
     "base_uri": "https://localhost:8080/"
    },
    "executionInfo": {
     "elapsed": 3,
     "status": "ok",
     "timestamp": 1659012952417,
     "user": {
      "displayName": "Liming Luo",
      "userId": "15773081543218471807"
     },
     "user_tz": -480
    },
    "id": "ruaH-lxAsbIu",
    "outputId": "061e9b61-8522-435e-a465-2f2240c285f7"
   },
   "outputs": [
    {
     "data": {
      "text/plain": [
       "tensor(5)"
      ]
     },
     "execution_count": 5,
     "metadata": {},
     "output_type": "execute_result"
    }
   ],
   "source": [
    "x[0][1][1]"
   ]
  },
  {
   "cell_type": "code",
   "execution_count": 7,
   "metadata": {
    "colab": {
     "base_uri": "https://localhost:8080/"
    },
    "executionInfo": {
     "elapsed": 2,
     "status": "ok",
     "timestamp": 1659012959003,
     "user": {
      "displayName": "Liming Luo",
      "userId": "15773081543218471807"
     },
     "user_tz": -480
    },
    "id": "E4SdZfiGs_RY",
    "outputId": "f77e87c7-37e6-41c5-8082-3b1bd252dc55"
   },
   "outputs": [
    {
     "data": {
      "text/plain": [
       "tensor([7, 8, 9])"
      ]
     },
     "execution_count": 7,
     "metadata": {},
     "output_type": "execute_result"
    }
   ],
   "source": [
    "x[0][:][2]"
   ]
  },
  {
   "cell_type": "markdown",
   "metadata": {
    "id": "OHDIahAL4SzC"
   },
   "source": [
    "### Numpy and Tensor"
   ]
  },
  {
   "cell_type": "code",
   "execution_count": 3,
   "metadata": {
    "colab": {
     "base_uri": "https://localhost:8080/"
    },
    "executionInfo": {
     "elapsed": 4,
     "status": "ok",
     "timestamp": 1659012943432,
     "user": {
      "displayName": "Liming Luo",
      "userId": "15773081543218471807"
     },
     "user_tz": -480
    },
    "id": "pl-eWj_MufHV",
    "outputId": "563c648b-5623-4f95-d16c-8a553ab23a2f"
   },
   "outputs": [
    {
     "data": {
      "text/plain": [
       "array([1, 2, 3])"
      ]
     },
     "execution_count": 3,
     "metadata": {},
     "output_type": "execute_result"
    }
   ],
   "source": [
    "array = np.array([1, 2, 3])\n",
    "array"
   ]
  },
  {
   "cell_type": "code",
   "execution_count": 9,
   "metadata": {
    "colab": {
     "base_uri": "https://localhost:8080/"
    },
    "executionInfo": {
     "elapsed": 4,
     "status": "ok",
     "timestamp": 1659013016980,
     "user": {
      "displayName": "Liming Luo",
      "userId": "15773081543218471807"
     },
     "user_tz": -480
    },
    "id": "Tzb7Q0PN4Htb",
    "outputId": "39e7af39-65f6-4b9a-9e0b-3ba9a50329d4"
   },
   "outputs": [
    {
     "data": {
      "text/plain": [
       "tensor([1, 2, 3])"
      ]
     },
     "execution_count": 9,
     "metadata": {},
     "output_type": "execute_result"
    }
   ],
   "source": [
    "# Converting Numpy array to tensor\n",
    "tensor = torch.from_numpy(array)\n",
    "tensor"
   ]
  },
  {
   "cell_type": "code",
   "execution_count": 10,
   "metadata": {
    "colab": {
     "base_uri": "https://localhost:8080/"
    },
    "executionInfo": {
     "elapsed": 4,
     "status": "ok",
     "timestamp": 1659013047445,
     "user": {
      "displayName": "Liming Luo",
      "userId": "15773081543218471807"
     },
     "user_tz": -480
    },
    "id": "Ur2X9pWw4aaJ",
    "outputId": "9a7ea0a7-3f72-4a9d-eb09-25f978ae26c0"
   },
   "outputs": [
    {
     "data": {
      "text/plain": [
       "array([1, 2, 3])"
      ]
     },
     "execution_count": 10,
     "metadata": {},
     "output_type": "execute_result"
    }
   ],
   "source": [
    "array = tensor.numpy()\n",
    "array"
   ]
  },
  {
   "cell_type": "markdown",
   "metadata": {
    "id": "dLrLyCU66KEr"
   },
   "source": [
    "## Reproducbility"
   ]
  },
  {
   "cell_type": "code",
   "execution_count": 12,
   "metadata": {
    "colab": {
     "base_uri": "https://localhost:8080/"
    },
    "executionInfo": {
     "elapsed": 564,
     "status": "ok",
     "timestamp": 1659013661664,
     "user": {
      "displayName": "Liming Luo",
      "userId": "15773081543218471807"
     },
     "user_tz": -480
    },
    "id": "vPrYuCoj4hw4",
    "outputId": "1d6bd415-a894-4eac-9c8a-dbdd898ba160"
   },
   "outputs": [
    {
     "name": "stdout",
     "output_type": "stream",
     "text": [
      "tensor([[0.7865, 0.3521],\n",
      "        [0.9016, 0.0224]])\n",
      "tensor([[0.3346, 0.5605],\n",
      "        [0.8965, 0.3312]])\n",
      "tensor([[False, False],\n",
      "        [False, False]])\n"
     ]
    }
   ],
   "source": [
    "# Create two random tensors\n",
    "random_A = torch.rand(2, 2)\n",
    "random_B = torch.rand(2, 2)\n",
    "print(random_A)\n",
    "print(random_B)\n",
    "print(random_A == random_B)"
   ]
  },
  {
   "cell_type": "code",
   "execution_count": 16,
   "metadata": {
    "colab": {
     "base_uri": "https://localhost:8080/"
    },
    "executionInfo": {
     "elapsed": 4,
     "status": "ok",
     "timestamp": 1659013935432,
     "user": {
      "displayName": "Liming Luo",
      "userId": "15773081543218471807"
     },
     "user_tz": -480
    },
    "id": "JefAmKOc6xEO",
    "outputId": "fc8de66b-ee9f-4dcf-c612-5f07ff114142"
   },
   "outputs": [
    {
     "name": "stdout",
     "output_type": "stream",
     "text": [
      "tensor([[0.5349, 0.1988, 0.6592],\n",
      "        [0.6569, 0.2328, 0.4251],\n",
      "        [0.2071, 0.6297, 0.3653]])\n",
      "tensor([[0.5349, 0.1988, 0.6592],\n",
      "        [0.6569, 0.2328, 0.4251],\n",
      "        [0.2071, 0.6297, 0.3653]])\n",
      "tensor([[True, True, True],\n",
      "        [True, True, True],\n",
      "        [True, True, True]])\n"
     ]
    }
   ],
   "source": [
    "# Set random seed\n",
    "RANDOM_SEED = 7\n",
    "torch.manual_seed(RANDOM_SEED)\n",
    "random_C = torch.rand(3, 3)\n",
    "torch.manual_seed(RANDOM_SEED)\n",
    "random_D = torch.rand(3, 3)\n",
    "print(random_C)\n",
    "print(random_D)\n",
    "print(random_C == random_D)"
   ]
  },
  {
   "cell_type": "markdown",
   "metadata": {
    "id": "mKTZrPPZ8te-"
   },
   "source": [
    "# Device"
   ]
  },
  {
   "cell_type": "markdown",
   "metadata": {
    "id": "u3myxted-y4F"
   },
   "source": [
    "## Setup"
   ]
  },
  {
   "cell_type": "code",
   "execution_count": 3,
   "metadata": {
    "colab": {
     "base_uri": "https://localhost:8080/"
    },
    "executionInfo": {
     "elapsed": 485,
     "status": "ok",
     "timestamp": 1659014488006,
     "user": {
      "displayName": "Liming Luo",
      "userId": "15773081543218471807"
     },
     "user_tz": -480
    },
    "id": "ucra17sG7qLp",
    "outputId": "15c73a68-9a95-46de-d964-24b3c9e9e3c7"
   },
   "outputs": [
    {
     "name": "stdout",
     "output_type": "stream",
     "text": [
      "Thu Jul 28 13:21:28 2022       \n",
      "+-----------------------------------------------------------------------------+\n",
      "| NVIDIA-SMI 460.32.03    Driver Version: 460.32.03    CUDA Version: 11.2     |\n",
      "|-------------------------------+----------------------+----------------------+\n",
      "| GPU  Name        Persistence-M| Bus-Id        Disp.A | Volatile Uncorr. ECC |\n",
      "| Fan  Temp  Perf  Pwr:Usage/Cap|         Memory-Usage | GPU-Util  Compute M. |\n",
      "|                               |                      |               MIG M. |\n",
      "|===============================+======================+======================|\n",
      "|   0  Tesla T4            Off  | 00000000:00:04.0 Off |                    0 |\n",
      "| N/A   51C    P8    10W /  70W |      3MiB / 15109MiB |      0%      Default |\n",
      "|                               |                      |                  N/A |\n",
      "+-------------------------------+----------------------+----------------------+\n",
      "                                                                               \n",
      "+-----------------------------------------------------------------------------+\n",
      "| Processes:                                                                  |\n",
      "|  GPU   GI   CI        PID   Type   Process name                  GPU Memory |\n",
      "|        ID   ID                                                   Usage      |\n",
      "|=============================================================================|\n",
      "|  No running processes found                                                 |\n",
      "+-----------------------------------------------------------------------------+\n"
     ]
    }
   ],
   "source": [
    "# Check GPU status\n",
    "!nvidia-smi"
   ]
  },
  {
   "cell_type": "code",
   "execution_count": 5,
   "metadata": {
    "colab": {
     "base_uri": "https://localhost:8080/"
    },
    "executionInfo": {
     "elapsed": 4,
     "status": "ok",
     "timestamp": 1659014499986,
     "user": {
      "displayName": "Liming Luo",
      "userId": "15773081543218471807"
     },
     "user_tz": -480
    },
    "id": "6eR_uYzR9x72",
    "outputId": "7935239e-7b5e-424a-e353-dd6d6bf6af87"
   },
   "outputs": [
    {
     "data": {
      "text/plain": [
       "True"
      ]
     },
     "execution_count": 5,
     "metadata": {},
     "output_type": "execute_result"
    }
   ],
   "source": [
    "# Check for GPU access with PyTorch\n",
    "torch.cuda.is_available()"
   ]
  },
  {
   "cell_type": "code",
   "execution_count": 6,
   "metadata": {
    "colab": {
     "base_uri": "https://localhost:8080/",
     "height": 35
    },
    "executionInfo": {
     "elapsed": 4,
     "status": "ok",
     "timestamp": 1659014542748,
     "user": {
      "displayName": "Liming Luo",
      "userId": "15773081543218471807"
     },
     "user_tz": -480
    },
    "id": "8SNsKsAL99rw",
    "outputId": "4b595e1e-79cc-474e-f25b-3ddb672b3e70"
   },
   "outputs": [
    {
     "data": {
      "application/vnd.google.colaboratory.intrinsic+json": {
       "type": "string"
      },
      "text/plain": [
       "'cuda'"
      ]
     },
     "execution_count": 6,
     "metadata": {},
     "output_type": "execute_result"
    }
   ],
   "source": [
    "# Setup device agonstic code\n",
    "device = \"cuda\" if torch.cuda.is_available() else \"cpu\"\n",
    "device"
   ]
  },
  {
   "cell_type": "code",
   "execution_count": 7,
   "metadata": {
    "colab": {
     "base_uri": "https://localhost:8080/"
    },
    "executionInfo": {
     "elapsed": 3,
     "status": "ok",
     "timestamp": 1659014561729,
     "user": {
      "displayName": "Liming Luo",
      "userId": "15773081543218471807"
     },
     "user_tz": -480
    },
    "id": "cjqXgoo7-PG9",
    "outputId": "d27aa6bb-a88d-46ab-d1b9-cee28b0c0e5f"
   },
   "outputs": [
    {
     "data": {
      "text/plain": [
       "1"
      ]
     },
     "execution_count": 7,
     "metadata": {},
     "output_type": "execute_result"
    }
   ],
   "source": [
    "# count number of devices\n",
    "torch.cuda.device_count()"
   ]
  },
  {
   "cell_type": "markdown",
   "metadata": {
    "id": "b3gHqNvC-0P2"
   },
   "source": [
    "## Applying Tensors"
   ]
  },
  {
   "cell_type": "code",
   "execution_count": 9,
   "metadata": {
    "colab": {
     "base_uri": "https://localhost:8080/"
    },
    "executionInfo": {
     "elapsed": 4,
     "status": "ok",
     "timestamp": 1659015184171,
     "user": {
      "displayName": "Liming Luo",
      "userId": "15773081543218471807"
     },
     "user_tz": -480
    },
    "id": "igd9rFdN-Tpu",
    "outputId": "3fd77c16-c887-4e01-c05d-b75f5c25d957"
   },
   "outputs": [
    {
     "data": {
      "text/plain": [
       "device(type='cpu')"
      ]
     },
     "execution_count": 9,
     "metadata": {},
     "output_type": "execute_result"
    }
   ],
   "source": [
    " # Create a tensor\n",
    " tensor_X = torch.tensor([1, 2, 3])\n",
    " tensor_X.device"
   ]
  },
  {
   "cell_type": "code",
   "execution_count": 10,
   "metadata": {
    "executionInfo": {
     "elapsed": 6709,
     "status": "ok",
     "timestamp": 1659015268022,
     "user": {
      "displayName": "Liming Luo",
      "userId": "15773081543218471807"
     },
     "user_tz": -480
    },
    "id": "9ovHJdY0Anvc"
   },
   "outputs": [],
   "source": [
    "# Move Tensors to GPU\n",
    "tensor_X_GPU = tensor_X.to(device)"
   ]
  },
  {
   "cell_type": "code",
   "execution_count": 11,
   "metadata": {
    "colab": {
     "base_uri": "https://localhost:8080/"
    },
    "executionInfo": {
     "elapsed": 445,
     "status": "ok",
     "timestamp": 1659015270503,
     "user": {
      "displayName": "Liming Luo",
      "userId": "15773081543218471807"
     },
     "user_tz": -480
    },
    "id": "gvvNMwZgA-ph",
    "outputId": "a9e7eadb-4adb-42a1-fbb4-9e95a045b681"
   },
   "outputs": [
    {
     "data": {
      "text/plain": [
       "device(type='cuda', index=0)"
      ]
     },
     "execution_count": 11,
     "metadata": {},
     "output_type": "execute_result"
    }
   ],
   "source": [
    "tensor_X_GPU.device"
   ]
  },
  {
   "cell_type": "code",
   "execution_count": 17,
   "metadata": {
    "colab": {
     "base_uri": "https://localhost:8080/"
    },
    "executionInfo": {
     "elapsed": 2,
     "status": "ok",
     "timestamp": 1659015502400,
     "user": {
      "displayName": "Liming Luo",
      "userId": "15773081543218471807"
     },
     "user_tz": -480
    },
    "id": "uCP8zrLgBUf7",
    "outputId": "e0a6fe26-2dec-4ef3-b383-7ebf51568639"
   },
   "outputs": [
    {
     "data": {
      "text/plain": [
       "array([1, 2, 3])"
      ]
     },
     "execution_count": 17,
     "metadata": {},
     "output_type": "execute_result"
    }
   ],
   "source": [
    "# Tensors on GPU cannot be operated with Numpy, move them to cpu first\n",
    "tensor_X_CPU = tensor_X_GPU.cpu()  # or tensor_X_CPU = tensor_X.to(\"cpu\")\n",
    "tensor_X_CPU.numpy()"
   ]
  },
  {
   "cell_type": "code",
   "execution_count": null,
   "metadata": {
    "id": "CsBmt6EoB3Vx"
   },
   "outputs": [],
   "source": []
  }
 ],
 "metadata": {
  "accelerator": "GPU",
  "colab": {
   "authorship_tag": "ABX9TyNEUFZd/RpOn+zJPfzM77Zu",
   "name": "00_Pytorch_Fundamentals.ipynb",
   "provenance": []
  },
  "gpuClass": "standard",
  "kernelspec": {
   "display_name": "Python 3 (ipykernel)",
   "language": "python",
   "name": "python3"
  },
  "language_info": {
   "codemirror_mode": {
    "name": "ipython",
    "version": 3
   },
   "file_extension": ".py",
   "mimetype": "text/x-python",
   "name": "python",
   "nbconvert_exporter": "python",
   "pygments_lexer": "ipython3",
   "version": "3.9.7"
  }
 },
 "nbformat": 4,
 "nbformat_minor": 4
}
